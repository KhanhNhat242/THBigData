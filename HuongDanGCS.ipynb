{
  "cells": [
    {
      "cell_type": "markdown",
      "metadata": {
        "id": "view-in-github",
        "colab_type": "text"
      },
      "source": [
        "<a href=\"https://colab.research.google.com/github/KhanhNhat242/THBigData/blob/main/HuongDanGCS.ipynb\" target=\"_parent\"><img src=\"https://colab.research.google.com/assets/colab-badge.svg\" alt=\"Open In Colab\"/></a>"
      ]
    },
    {
      "cell_type": "markdown",
      "metadata": {
        "id": "aIVfez_Eq8s_"
      },
      "source": [
        "# Cài đặt gcloud"
      ]
    },
    {
      "cell_type": "markdown",
      "metadata": {
        "id": "rQAfzveZq_-T"
      },
      "source": [
        "Cài đặt gcloud theo link và hướng dẫn ở đây:\n",
        "\n",
        "https://cloud.google.com/sdk/docs/install\n",
        "\n",
        "### Một số câu lệnh\n",
        "\n",
        "Sau khi cài đặt xong, chúng ta sử dụng một số câu lệnh sau:\n",
        "\n",
        "Đăng nhập vào app gcloud\n",
        "```\n",
        "gcloud auth login\n",
        "```\n",
        "Lấy crediential để có thể chạy code trên máy local:\n",
        "\n",
        "```\n",
        "gcloud auth application-default login\n",
        "```\n",
        "\n",
        "Update gcloud\n",
        "```\n",
        "gcloud components update\n",
        "```\n",
        "\n",
        "Update setting về vùng\n",
        "```\n",
        "gcloud config set compute/region asia-east1\n",
        "```\n",
        "\n",
        "### Nếu bạn có nhiều account và project\n",
        "List Account và project\n",
        "```\n",
        "gcloud auth list\n",
        "gcloud projects list --sort-by=projectId\n",
        "```\n",
        "\n",
        "\n",
        "Set Account và Project\n",
        "\n",
        "```\n",
        "gcloud config set account ACCOUNT_EMAIL\n",
        "gcloud config set projects PROJECT_ID\n",
        "```\n",
        "\n",
        "\n",
        "Nếu sử dụng service account nên cấu hình environment variable tới\n",
        "GOOGLE_APPLICATION_CREDENTIALS\n",
        "```\n",
        "export GOOGLE_APPLICATION_CREDENTIALS=\"path/to/service/account\"\n",
        "```"
      ]
    },
    {
      "cell_type": "markdown",
      "metadata": {
        "id": "GwDTqr28bs7D"
      },
      "source": [
        "# Tạo service Account\n",
        "\n",
        "batch-job-service-account\n",
        "\n",
        "<!-- @test-app-309909.iam.gserviceaccount.com -->"
      ]
    },
    {
      "cell_type": "markdown",
      "metadata": {
        "id": "O6vr3aUZtCAA"
      },
      "source": [
        "# Thao tác với gs\n",
        "\n",
        "Cài đặt thư viện trên python"
      ]
    },
    {
      "cell_type": "code",
      "source": [
        "!pip install --upgrade google-cloud-storage"
      ],
      "metadata": {
        "id": "CxvrVj_BDkwX",
        "colab": {
          "base_uri": "https://localhost:8080/"
        },
        "outputId": "66ed0f19-e2f4-4615-9869-082e2782c8da"
      },
      "execution_count": null,
      "outputs": [
        {
          "output_type": "stream",
          "name": "stdout",
          "text": [
            "Requirement already satisfied: google-cloud-storage in /usr/local/lib/python3.10/dist-packages (2.15.0)\n",
            "Requirement already satisfied: google-auth<3.0dev,>=2.26.1 in /usr/local/lib/python3.10/dist-packages (from google-cloud-storage) (2.27.0)\n",
            "Requirement already satisfied: google-api-core<3.0.0dev,>=2.15.0 in /usr/local/lib/python3.10/dist-packages (from google-cloud-storage) (2.17.1)\n",
            "Requirement already satisfied: google-cloud-core<3.0dev,>=2.3.0 in /usr/local/lib/python3.10/dist-packages (from google-cloud-storage) (2.3.3)\n",
            "Requirement already satisfied: google-resumable-media>=2.6.0 in /usr/local/lib/python3.10/dist-packages (from google-cloud-storage) (2.7.0)\n",
            "Requirement already satisfied: requests<3.0.0dev,>=2.18.0 in /usr/local/lib/python3.10/dist-packages (from google-cloud-storage) (2.31.0)\n",
            "Requirement already satisfied: google-crc32c<2.0dev,>=1.0 in /usr/local/lib/python3.10/dist-packages (from google-cloud-storage) (1.5.0)\n",
            "Requirement already satisfied: googleapis-common-protos<2.0.dev0,>=1.56.2 in /usr/local/lib/python3.10/dist-packages (from google-api-core<3.0.0dev,>=2.15.0->google-cloud-storage) (1.62.0)\n",
            "Requirement already satisfied: protobuf!=3.20.0,!=3.20.1,!=4.21.0,!=4.21.1,!=4.21.2,!=4.21.3,!=4.21.4,!=4.21.5,<5.0.0.dev0,>=3.19.5 in /usr/local/lib/python3.10/dist-packages (from google-api-core<3.0.0dev,>=2.15.0->google-cloud-storage) (3.20.3)\n",
            "Requirement already satisfied: cachetools<6.0,>=2.0.0 in /usr/local/lib/python3.10/dist-packages (from google-auth<3.0dev,>=2.26.1->google-cloud-storage) (5.3.3)\n",
            "Requirement already satisfied: pyasn1-modules>=0.2.1 in /usr/local/lib/python3.10/dist-packages (from google-auth<3.0dev,>=2.26.1->google-cloud-storage) (0.3.0)\n",
            "Requirement already satisfied: rsa<5,>=3.1.4 in /usr/local/lib/python3.10/dist-packages (from google-auth<3.0dev,>=2.26.1->google-cloud-storage) (4.9)\n",
            "Requirement already satisfied: charset-normalizer<4,>=2 in /usr/local/lib/python3.10/dist-packages (from requests<3.0.0dev,>=2.18.0->google-cloud-storage) (3.3.2)\n",
            "Requirement already satisfied: idna<4,>=2.5 in /usr/local/lib/python3.10/dist-packages (from requests<3.0.0dev,>=2.18.0->google-cloud-storage) (3.6)\n",
            "Requirement already satisfied: urllib3<3,>=1.21.1 in /usr/local/lib/python3.10/dist-packages (from requests<3.0.0dev,>=2.18.0->google-cloud-storage) (2.0.7)\n",
            "Requirement already satisfied: certifi>=2017.4.17 in /usr/local/lib/python3.10/dist-packages (from requests<3.0.0dev,>=2.18.0->google-cloud-storage) (2024.2.2)\n",
            "Requirement already satisfied: pyasn1<0.6.0,>=0.4.6 in /usr/local/lib/python3.10/dist-packages (from pyasn1-modules>=0.2.1->google-auth<3.0dev,>=2.26.1->google-cloud-storage) (0.5.1)\n"
          ]
        }
      ]
    },
    {
      "cell_type": "code",
      "source": [
        "!gcloud info --run-diagnostics"
      ],
      "metadata": {
        "colab": {
          "base_uri": "https://localhost:8080/"
        },
        "id": "j5vCxeyTOWaJ",
        "outputId": "e8d4c016-0957-4620-c555-fb43c1868e78"
      },
      "execution_count": 1,
      "outputs": [
        {
          "output_type": "stream",
          "name": "stdout",
          "text": [
            "Network diagnostic detects and fixes local network connection issues.\n",
            "Reachability Check passed.\n",
            "Network diagnostic passed (1/1 checks passed).\n",
            "\n",
            "Property diagnostic detects issues that may be caused by properties.\n",
            "\u001b[1;31mERROR:\u001b[0m Hidden Property Check failed.\n",
            "The following hidden properties have been set:\n",
            "    [compute/gce_metadata_read_timeout_sec]\n",
            "Properties files\n",
            "    User: /content/.config/configurations/config_default\n",
            "    Installation: None\n",
            "\n",
            "\u001b[1;31mERROR:\u001b[0m Property diagnostic failed (0/1 checks passed).\n",
            "\n",
            "\u001b[1;31mERROR:\u001b[0m (gcloud.info) Some of the checks in diagnostics failed.\n"
          ]
        }
      ]
    },
    {
      "cell_type": "code",
      "source": [
        "!gcloud auth application-default login"
      ],
      "metadata": {
        "colab": {
          "base_uri": "https://localhost:8080/"
        },
        "id": "0IRciFXuDrYb",
        "outputId": "44916a4d-02cc-493f-d51e-4a2230f7b20b"
      },
      "execution_count": null,
      "outputs": [
        {
          "output_type": "stream",
          "name": "stdout",
          "text": [
            "Go to the following link in your browser:\n",
            "\n",
            "    https://accounts.google.com/o/oauth2/auth?response_type=code&client_id=764086051850-6qr4p6gpi6hn506pt8ejuq83di341hur.apps.googleusercontent.com&redirect_uri=https%3A%2F%2Fsdk.cloud.google.com%2Fapplicationdefaultauthcode.html&scope=openid+https%3A%2F%2Fwww.googleapis.com%2Fauth%2Fuserinfo.email+https%3A%2F%2Fwww.googleapis.com%2Fauth%2Fcloud-platform+https%3A%2F%2Fwww.googleapis.com%2Fauth%2Fsqlservice.login&state=T1L5rMzEslGyKDtH0vL37wDlMtgjrT&prompt=consent&token_usage=remote&access_type=offline&code_challenge=OlbSP3kWE4VUT0iQUOVQdAoHdvB0CWjslw3ujjsA84o&code_challenge_method=S256\n",
            "\n",
            "Enter authorization code: 4/0AeaYSHAZGQ6KQCh8PwWl4fakIOWGgjFSEIG5brg5wglzbRqxKe-H7hw39Ho-9b-VhAXhVw\n",
            "\n",
            "Credentials saved to file: [/content/.config/application_default_credentials.json]\n",
            "\n",
            "These credentials will be used by any library that requests Application Default Credentials (ADC).\n",
            "\n",
            "Quota project \"fourth-epigram-415802\" was added to ADC which can be used by Google client libraries for billing and quota. Note that some services may still bill the project owning the resource.\n"
          ]
        }
      ]
    },
    {
      "cell_type": "code",
      "source": [
        "!gcloud auth login"
      ],
      "metadata": {
        "colab": {
          "base_uri": "https://localhost:8080/"
        },
        "id": "vf28o8mSD7oo",
        "outputId": "fc448cad-79fd-482d-89f1-888306054943"
      },
      "execution_count": null,
      "outputs": [
        {
          "output_type": "stream",
          "name": "stdout",
          "text": [
            "Go to the following link in your browser:\n",
            "\n",
            "    https://accounts.google.com/o/oauth2/auth?response_type=code&client_id=32555940559.apps.googleusercontent.com&redirect_uri=https%3A%2F%2Fsdk.cloud.google.com%2Fauthcode.html&scope=openid+https%3A%2F%2Fwww.googleapis.com%2Fauth%2Fuserinfo.email+https%3A%2F%2Fwww.googleapis.com%2Fauth%2Fcloud-platform+https%3A%2F%2Fwww.googleapis.com%2Fauth%2Fappengine.admin+https%3A%2F%2Fwww.googleapis.com%2Fauth%2Fsqlservice.login+https%3A%2F%2Fwww.googleapis.com%2Fauth%2Fcompute+https%3A%2F%2Fwww.googleapis.com%2Fauth%2Faccounts.reauth&state=QTnbPMweFZySmYtOLkSoHhO1J0I59y&prompt=consent&token_usage=remote&access_type=offline&code_challenge=Bjue61lKXRm7-9NxVpAZyFe5tuhjwhgBRD7XGfb2DCQ&code_challenge_method=S256\n",
            "\n",
            "Enter authorization code: 4/0AeaYSHDGns20Tgj2AsHtpP76WX8qkAWNssN7-LPoCODZKZYXkSmqLt70OmjyA95JDUxMJw\n",
            "\n",
            "You are now logged in as [khanhnhat24022002@gmail.com].\n",
            "Your current project is [fourth-epigram-415802].  You can change this setting by running:\n",
            "  $ gcloud config set project PROJECT_ID\n"
          ]
        }
      ]
    },
    {
      "cell_type": "code",
      "source": [
        "!gcloud info --run-diagnostics"
      ],
      "metadata": {
        "colab": {
          "base_uri": "https://localhost:8080/"
        },
        "id": "EFmtC9auOnDx",
        "outputId": "0adf3206-8508-417e-89c8-56523d525ccf"
      },
      "execution_count": null,
      "outputs": [
        {
          "output_type": "stream",
          "name": "stdout",
          "text": [
            "Network diagnostic detects and fixes local network connection issues.\n",
            "Reachability Check passed.\n",
            "Network diagnostic passed (1/1 checks passed).\n",
            "\n",
            "Property diagnostic detects issues that may be caused by properties.\n",
            "\u001b[1;31mERROR:\u001b[0m Hidden Property Check failed.\n",
            "The following hidden properties have been set:\n",
            "    [compute/gce_metadata_read_timeout_sec]\n",
            "Properties files\n",
            "    User: /content/.config/configurations/config_default\n",
            "    Installation: None\n",
            "\n",
            "\u001b[1;31mERROR:\u001b[0m Property diagnostic failed (0/1 checks passed).\n",
            "\n",
            "\u001b[1;31mERROR:\u001b[0m (gcloud.info) Some of the checks in diagnostics failed.\n"
          ]
        }
      ]
    },
    {
      "cell_type": "code",
      "source": [
        "from google.colab import auth\n",
        "\n",
        "PROJECT_ID = \"fourth-epigram-415802\"\n",
        "auth.authenticate_user(project_id = PROJECT_ID)\n"
      ],
      "metadata": {
        "id": "EA1Q20KaEGb8"
      },
      "execution_count": null,
      "outputs": []
    },
    {
      "cell_type": "code",
      "source": [
        "from google.cloud import storage\n",
        "PROJECT_ID = \"fourth-epigram-415802\"\n",
        "storage_client = storage.Client(project= PROJECT_ID)"
      ],
      "metadata": {
        "id": "Ukf8yH_jEhCd"
      },
      "execution_count": null,
      "outputs": []
    },
    {
      "cell_type": "code",
      "source": [
        "!gcloud config set project fourth-epigram-415802"
      ],
      "metadata": {
        "colab": {
          "base_uri": "https://localhost:8080/"
        },
        "id": "A6XMR3dmO4lT",
        "outputId": "3235cc6a-2ae3-41b4-e44a-f308c5ec0883"
      },
      "execution_count": null,
      "outputs": [
        {
          "output_type": "stream",
          "name": "stdout",
          "text": [
            "Updated property [core/project].\n"
          ]
        }
      ]
    },
    {
      "cell_type": "code",
      "source": [
        "# tạo bucket\n",
        "# BUCKET_NAME = \"data_clean\"\n",
        "# bucket = storage_client.create_bucket(BUCKET_NAME)"
      ],
      "metadata": {
        "id": "JEdJw9EyEpuH"
      },
      "execution_count": null,
      "outputs": []
    },
    {
      "cell_type": "code",
      "source": [
        "# lấy bucket\n",
        "BUCKET_NAME = \"demo01_processingg\"\n",
        "bucket = storage_client.get_bucket(BUCKET_NAME)\n",
        "bucket"
      ],
      "metadata": {
        "colab": {
          "base_uri": "https://localhost:8080/"
        },
        "id": "Qo5wZX7-FAli",
        "outputId": "fb06bbdc-5000-45dc-9d3d-31a3fce0783f"
      },
      "execution_count": null,
      "outputs": [
        {
          "output_type": "execute_result",
          "data": {
            "text/plain": [
              "<Bucket: demo01_processingg>"
            ]
          },
          "metadata": {},
          "execution_count": 13
        }
      ]
    },
    {
      "cell_type": "code",
      "source": [
        "# list các file trong bucket với đường dẫn\n",
        "PREFIX = \"random_products.json\"\n",
        "for blob in bucket.list_blobs(prefix = PREFIX):\n",
        "  print(blob)"
      ],
      "metadata": {
        "id": "w09kMDd3FN1F",
        "colab": {
          "base_uri": "https://localhost:8080/"
        },
        "outputId": "fd487403-395b-4047-8b43-b17653487ecc"
      },
      "execution_count": null,
      "outputs": [
        {
          "output_type": "stream",
          "name": "stdout",
          "text": [
            "<Blob: demo01_processingg, random_products.json, 1709177354238216>\n"
          ]
        }
      ]
    },
    {
      "cell_type": "code",
      "source": [
        "# câu lệnh tương tự list các file trong bucket với đường dẫn\n",
        "for blob in storage_client.list_blobs(BUCKET_NAME, prefix = PREFIX):\n",
        "  print(blob)"
      ],
      "metadata": {
        "colab": {
          "base_uri": "https://localhost:8080/"
        },
        "id": "zWdTd7I8FhqN",
        "outputId": "c39ac014-2fc3-4803-80ef-67d5ed45dd15"
      },
      "execution_count": null,
      "outputs": [
        {
          "output_type": "stream",
          "name": "stdout",
          "text": [
            "<Blob: demo01_processingg, random_products.json, 1709177354238216>\n"
          ]
        }
      ]
    },
    {
      "cell_type": "code",
      "execution_count": null,
      "metadata": {
        "id": "BwLPFXm-w7Eu"
      },
      "outputs": [],
      "source": [
        "# Upload file lên blob\n",
        "# blob.upload_from_filename(LOCAL_FILE_PATH)"
      ]
    },
    {
      "cell_type": "code",
      "source": [
        "# lấy blob/ tạo blob\n",
        "GCS_BLOB_NAME = \"rawl-data/event/2023/08/12/c6bfa982-3933-11ee-800c-56934cb9d3ad.json\"\n",
        "blob = bucket.blob(GCS_BLOB_NAME)\n",
        "# blob"
      ],
      "metadata": {
        "id": "XxN3l3kqF0U9"
      },
      "execution_count": null,
      "outputs": []
    },
    {
      "cell_type": "code",
      "source": [
        "# kiểm tra có tồn tại hay không\n",
        "is_existed = blob.exists()\n",
        "is_existed"
      ],
      "metadata": {
        "colab": {
          "base_uri": "https://localhost:8080/"
        },
        "id": "_N9-nBXfGFSx",
        "outputId": "798ca87f-227b-49f6-d36c-c670afc2fcdc"
      },
      "execution_count": null,
      "outputs": [
        {
          "output_type": "execute_result",
          "data": {
            "text/plain": [
              "False"
            ]
          },
          "metadata": {},
          "execution_count": 23
        }
      ]
    },
    {
      "cell_type": "code",
      "source": [
        "# download file về máy\n",
        "# đổi tên đường dẫn tuỳ ý\n",
        "LOCAL_FILE_PATH = \"./downloaded.json\"\n",
        "\n",
        "blob.download_to_filename(LOCAL_FILE_PATH)\n"
      ],
      "metadata": {
        "id": "oRzw8KA3GOfU"
      },
      "execution_count": null,
      "outputs": []
    },
    {
      "cell_type": "code",
      "source": [
        "# download file vào bộ nhớ\n",
        "data = blob.download_as_bytes()"
      ],
      "metadata": {
        "id": "5bBzK2JDGhZB"
      },
      "execution_count": null,
      "outputs": []
    },
    {
      "cell_type": "code",
      "source": [
        "# data\n",
        "# Trường hợp data là file json\n",
        "for line in data.decode('utf-8').split(\"/n\"):\n",
        "    print(line)\n",
        "    break"
      ],
      "metadata": {
        "id": "ojI8it3OGpUi"
      },
      "execution_count": null,
      "outputs": []
    },
    {
      "cell_type": "code",
      "source": [
        "# Upload file lên blob\n",
        "blob.upload_from_filename(LOCAL_FILE_PATH)"
      ],
      "metadata": {
        "id": "Nlhg3lVFGsjw"
      },
      "execution_count": null,
      "outputs": []
    },
    {
      "cell_type": "markdown",
      "metadata": {
        "id": "CDcImRbw2QLS"
      },
      "source": [
        "# Thao tác với pyarrow\n",
        "\n",
        "https://arrow.apache.org/cookbook/py/data.html\n"
      ]
    },
    {
      "cell_type": "code",
      "execution_count": null,
      "metadata": {
        "colab": {
          "base_uri": "https://localhost:8080/"
        },
        "id": "3K5_vwhZyupT",
        "outputId": "e64a8d86-ca7c-4bef-c2ca-3c2dc43c1670"
      },
      "outputs": [
        {
          "output_type": "stream",
          "name": "stdout",
          "text": [
            "Requirement already satisfied: pyarrow in /usr/local/lib/python3.10/dist-packages (10.0.1)\n",
            "Requirement already satisfied: numpy>=1.16.6 in /usr/local/lib/python3.10/dist-packages (from pyarrow) (1.23.5)\n"
          ]
        }
      ],
      "source": [
        "!pip install pyarrow"
      ]
    },
    {
      "cell_type": "code",
      "execution_count": null,
      "metadata": {
        "id": "nD5FhVhb2P5A"
      },
      "outputs": [],
      "source": [
        "# Cài đặt pyarrow\n",
        "!pip install --upgrade pyarrow"
      ]
    },
    {
      "cell_type": "code",
      "source": [
        "import pyarrow\n",
        "import pyarrow.json\n",
        "import pyarrow.parquet"
      ],
      "metadata": {
        "id": "ARmcbWKpG7CE"
      },
      "execution_count": null,
      "outputs": []
    },
    {
      "cell_type": "code",
      "source": [
        "GCS_BLOB_NAME = \"aggregate-data/json/c6bfa982-3933-11ee-800c-56934cb9d3ad.json\"\n",
        "blob = bucket.blob(GCS_BLOB_NAME)\n",
        "\n",
        "# download file về storage\n",
        "LOCAL_FILE_PATH = \"./cleaned.json\"\n",
        "blob.download_to_filename(LOCAL_FILE_PATH)\n",
        "\n",
        "# đọc json từ file\n",
        "table = pyarrow.json.read_json(LOCAL_FILE_PATH)\n",
        "table"
      ],
      "metadata": {
        "id": "urJjZxcBHEcf"
      },
      "execution_count": null,
      "outputs": []
    },
    {
      "cell_type": "code",
      "source": [
        "table.schema\n"
      ],
      "metadata": {
        "id": "2NCXtHOGH8WU"
      },
      "execution_count": null,
      "outputs": []
    },
    {
      "cell_type": "code",
      "source": [
        "schema = pyarrow.schema([\n",
        "    ('event_id', pyarrow.string()),\n",
        "    ('event_type', pyarrow.string()),\n",
        "    ('timestamp', pyarrow.string()),   # Sửa kiểu timestamp thành string\n",
        "    ('user_id', pyarrow.int64()),\n",
        "    ('location', pyarrow.string()),\n",
        "    ('device', pyarrow.string()),\n",
        "    ('ip_address', pyarrow.string()),\n",
        "    ('event_attribute', pyarrow.list_(pyarrow.struct([\n",
        "        ('key', pyarrow.string()),\n",
        "        ('int_value', pyarrow.int64()),\n",
        "        ('float_value', pyarrow.float64()),\n",
        "        ('string_value', pyarrow.string()),\n",
        "        ('bool_value', pyarrow.bool_())\n",
        "    ])))\n",
        "])\n",
        "\n",
        "parse_opt = pyarrow.json.ParseOptions(\n",
        "    explicit_schema = schema\n",
        ")\n",
        "table = pyarrow.json.read_json(LOCAL_FILE_PATH,parse_options=parse_opt)"
      ],
      "metadata": {
        "id": "DLZSJWjkHzwE"
      },
      "execution_count": null,
      "outputs": []
    },
    {
      "cell_type": "code",
      "source": [
        "table.schema"
      ],
      "metadata": {
        "colab": {
          "base_uri": "https://localhost:8080/"
        },
        "id": "7ufN6iC5IBd9",
        "outputId": "634eee89-ae3a-471b-d423-c2d09045e4b0"
      },
      "execution_count": null,
      "outputs": [
        {
          "output_type": "execute_result",
          "data": {
            "text/plain": [
              "event_id: string\n",
              "timestamp: timestamp[s]\n",
              "user_id: int64\n",
              "event_type: string\n",
              "location: string\n",
              "device: string\n",
              "ip_address: string\n",
              "event_attribute: list<item: struct<key: string, int_value: int64, float_value: double, string_value: string, bool_value: bool>>\n",
              "  child 0, item: struct<key: string, int_value: int64, float_value: double, string_value: string, bool_value: bool>\n",
              "      child 0, key: string\n",
              "      child 1, int_value: int64\n",
              "      child 2, float_value: double\n",
              "      child 3, string_value: string\n",
              "      child 4, bool_value: bool"
            ]
          },
          "metadata": {},
          "execution_count": 25
        }
      ]
    },
    {
      "cell_type": "code",
      "source": [
        "table['event_id']\n",
        "\n",
        "# table[['event_id','event_attribute']] Lỗi"
      ],
      "metadata": {
        "id": "9BecCnTfID8K"
      },
      "execution_count": null,
      "outputs": []
    },
    {
      "cell_type": "code",
      "source": [
        "table.select(['event_id','event_attribute'])"
      ],
      "metadata": {
        "id": "UWUdRm31IGAt"
      },
      "execution_count": null,
      "outputs": []
    },
    {
      "cell_type": "code",
      "source": [
        "table.group_by('user_id').aggregate([(\"event_id\", \"count\"),\n",
        "                                    (\"timestamp\", \"max\")])"
      ],
      "metadata": {
        "id": "cReP-umpIHZx"
      },
      "execution_count": null,
      "outputs": []
    },
    {
      "cell_type": "code",
      "source": [
        "# Xuất table ra file\n",
        "pyarrow.parquet.write_table(table,\"table.parquet\", compression=\"snappy\")"
      ],
      "metadata": {
        "id": "IrSYAyyyII1J"
      },
      "execution_count": null,
      "outputs": []
    },
    {
      "cell_type": "code",
      "source": [
        "# Check size của data\n",
        "!du -h cleaned.json table.parquet"
      ],
      "metadata": {
        "colab": {
          "base_uri": "https://localhost:8080/"
        },
        "id": "4Rg3zYwtIK9l",
        "outputId": "84f66c93-064f-46c7-e456-ae4ed7e815ea"
      },
      "execution_count": null,
      "outputs": [
        {
          "output_type": "stream",
          "name": "stdout",
          "text": [
            "21M\tcleaned.json\n",
            "4.5M\ttable.parquet\n"
          ]
        }
      ]
    },
    {
      "cell_type": "code",
      "source": [
        "# Đọc table từ parquet file\n",
        "pyarrow.parquet.read_table(\"table.parquet\")"
      ],
      "metadata": {
        "id": "P1CqxR0GINht"
      },
      "execution_count": null,
      "outputs": []
    },
    {
      "cell_type": "code",
      "source": [
        "# Ghi ra dataset\n",
        "pyarrow.parquet.write_to_dataset(table, root_path='event_info_dataset',\n",
        "                                    partition_cols=['event_type',\n",
        "                                                    'user_id'])"
      ],
      "metadata": {
        "id": "LYlvML4CIPmv"
      },
      "execution_count": null,
      "outputs": []
    },
    {
      "cell_type": "code",
      "source": [
        "import pyarrow.fs\n",
        "\n",
        "gcs= pyarrow.fs.GcsFileSystem(anonymous=False)"
      ],
      "metadata": {
        "id": "rbDB_z-RI0FR"
      },
      "execution_count": null,
      "outputs": []
    },
    {
      "cell_type": "code",
      "source": [
        "# Mở file trên google cloud storage và đọc file (ghi trực tiếp)\n",
        "import pyarrow.fs\n",
        "\n",
        "gcs= pyarrow.fs.GcsFileSystem(anonymous=False)\n",
        "gs_path = \"aggregate-data/json/c6bfa982-3933-11ee-800c-56934cb9d3ad.json\"\n",
        "my_file = gcs.open_input_stream(gs_path)\n",
        "\n",
        "schema = pyarrow.schema([\n",
        "    ('event_id', pyarrow.string()),\n",
        "    ('event_type', pyarrow.string()),\n",
        "    ('timestamp', pyarrow.string()),\n",
        "    ('user_id', pyarrow.int64()),\n",
        "    ('location', pyarrow.string()),\n",
        "    ('device', pyarrow.string()),\n",
        "    ('ip_address', pyarrow.string()),\n",
        "    ('event_attribute', pyarrow.list_(pyarrow.struct([\n",
        "        ('key', pyarrow.string()),\n",
        "        ('int_value', pyarrow.int64()),\n",
        "        ('float_value', pyarrow.float64()),\n",
        "        ('string_value', pyarrow.string()),\n",
        "        ('bool_value', pyarrow.bool_())\n",
        "    ])))\n",
        "])\n",
        "\n",
        "parse_opt = pyarrow.json.ParseOptions(\n",
        "    explicit_schema = schema\n",
        ")\n",
        "\n",
        "table = pyarrow.json.read_json(my_file,parse_options=parse_opt)"
      ],
      "metadata": {
        "id": "fMwP8bgHI7qE"
      },
      "execution_count": null,
      "outputs": []
    },
    {
      "cell_type": "code",
      "source": [
        "# Ghi ra dataset file\n",
        "pyarrow.parquet.write_to_dataset(table,\n",
        "                                root_path='demo01_processing/aggregate-data/event_info_dataset',\n",
        "                                partition_cols=['event_type', 'user_id'],\n",
        "                                filesystem=gcs)"
      ],
      "metadata": {
        "id": "XLmQL4HOKvPi"
      },
      "execution_count": null,
      "outputs": []
    },
    {
      "cell_type": "code",
      "source": [
        "pyarrow.parquet.read_table(\"./event_info_dataset\")"
      ],
      "metadata": {
        "id": "DNoZi767NErI"
      },
      "execution_count": null,
      "outputs": []
    },
    {
      "cell_type": "markdown",
      "metadata": {
        "id": "WRC-PaR9Am1P"
      },
      "source": [
        "# Problem :\n",
        "- Pyarrow chỉ Overwrite dataset\n",
        "- Work arround:\n",
        "    - Lưu data theo path year/month/day\n",
        "    - Parse Timestamp thành cột year/month/day\n"
      ]
    },
    {
      "cell_type": "markdown",
      "metadata": {
        "id": "U5inxEIYQYb3"
      },
      "source": [
        "# Pandas và pyarrow\n",
        "\n",
        "Pandas 2.0 có hỗ trợ pyarrow engine\n"
      ]
    },
    {
      "cell_type": "code",
      "execution_count": null,
      "metadata": {
        "id": "z9c1qPA3Qd2E"
      },
      "outputs": [],
      "source": [
        "# !pip install --upgrade\n",
        "!pip install pandas==2.0"
      ]
    },
    {
      "cell_type": "code",
      "source": [
        "import pandas as pd\n",
        "\n",
        "\n",
        "pd.read_parquet(\"./table.parquet\",engine = \"pyarrow\")\n",
        "\n",
        "# Convert Pyarrow sang pandas\n",
        "df = table.to_pandas( types_mapper = pd.ArrowDtype)\n",
        "df"
      ],
      "metadata": {
        "id": "finjws43LVJL"
      },
      "execution_count": null,
      "outputs": []
    },
    {
      "cell_type": "code",
      "source": [
        "\n",
        "df['timestamp'] = df['timestamp'].astype(str)\n",
        "df['datetime'] = df['timestamp'].str.split(\" \").map(lambda x: x[0])\n",
        "df['year'] = df['datetime'].str.split(\"-\").map(lambda x: x[0])\n",
        "df['month'] = df['datetime'].str.split(\"-\").map(lambda x: x[1])\n",
        "df['day'] = df['datetime'].str.split(\"-\").map(lambda x: x[2])\n",
        "\n",
        "new_table = pyarrow.Table.from_pandas(df)\n",
        "\n",
        "pyarrow.parquet.write_to_dataset(new_table,\n",
        "                                root_path='mmo_event_processing/gold-zone/event_info_dataset',\n",
        "                                partition_cols=['year','month','day'],\n",
        "                                filesystem=gcs)"
      ],
      "metadata": {
        "id": "ri0U4fFKKxii"
      },
      "execution_count": null,
      "outputs": []
    },
    {
      "cell_type": "code",
      "source": [],
      "metadata": {
        "id": "RLPTJ7itLW-y"
      },
      "execution_count": null,
      "outputs": []
    },
    {
      "cell_type": "markdown",
      "metadata": {
        "id": "coNtd4z2Ayks"
      },
      "source": [
        "# Cloud Build\n",
        "\n",
        "Câu lệnh build bằng docker\n",
        "```\n",
        "docker build\n",
        "```\n",
        "\n",
        "Câu lệnh build trên cloud\n",
        "```\n",
        "gcloud builds submit --tag gcr.io/project-id/test-app-309909/simple-image:v1.0\n",
        "```\n",
        "\n",
        "```\n",
        "# cloudbuild.yaml\n",
        "steps:\n",
        "    - name: 'gcr.io/cloud-builders/docker'\n",
        "args: [ 'build', '-t','gcr.io/${_PROJECT_ID}/${_IMAGE_NAME}:${_TAG}', '.' ]\n",
        "substitutions:\n",
        "_PROJECT_ID: test-app-309909 # default value\n",
        "_IMAGE_NAME: simple-image # default value\n",
        "_TAG: v1.0\n",
        "images:\n",
        "- 'gcr.io/${_PROJECT_ID}/${_IMAGE_NAME}:${_TAG}'\n",
        "```\n",
        "\n",
        "```\n",
        "gcloud builds submit --config=cloudbuild.yaml\n",
        "```\n",
        "\n",
        "```\n",
        "gcloud builds submit \\\n",
        "        --config=cloudbuild.yaml \\\n",
        "        --substitutions=_PROJECT_ID=test-app-309909,_IMAGE_NAME=simple-image,_TAG=v1.0\n",
        "```"
      ]
    },
    {
      "cell_type": "markdown",
      "metadata": {
        "id": "2wO65s7vBTU0"
      },
      "source": [
        "# Cloud Run\n",
        "\n",
        "Câu lệnh tạo job cloud run\n",
        "```\n",
        "export PROJECT_ID=test-app-309909\n",
        "export IMAGE=simple-image\n",
        "export TAG=v1.0\n",
        "export JOB_NAME=simple-job\n",
        "export SERVICE_ACCOUNT=batch-job-service-account@test-app-309909.iam.gserviceaccount.com\n",
        "\n",
        "gcloud run jobs create ${JOB_NAME} \\\n",
        "            --region asia-east1 \\\n",
        "            --image gcr.io/${PROJECT_ID}/${IMAGE}:${TAG} \\\n",
        "            --service-account ${SERVICE_ACCOUNT}\n",
        "```"
      ]
    },
    {
      "cell_type": "markdown",
      "metadata": {
        "id": "F21QShOinX2n"
      },
      "source": [
        "# Cloud Scheduler\n",
        "\n",
        "Câu lệnh tạo cloud scheduler\n",
        "\n",
        "```\n",
        "export PROJECT_ID=test-app-309909\n",
        "export IMAGE=simple-image\n",
        "export TAG=v1.0\n",
        "export SCHEDULER_NAME=simple-scheduler\n",
        "export JOB_NAME=simple-job\n",
        "export CLOUD_RUN_REGION=asia-east1\n",
        "export SCHEDULER_REGION=asia-east1\n",
        "export SERVICE_ACCOUNT=batch-job-service-account@test-app-309909.iam.gserviceaccount.com\n",
        "\n",
        "\n",
        "gcloud scheduler jobs create http ${SCHEDULER_NAME}\\\n",
        "        --location ${SCHEDULER_REGION} \\\n",
        "        --schedule=\"* * * * *\" \\\n",
        "        --uri=\"https://${CLOUD_RUN_REGION}-run.googleapis.com/apis/run.googleapis.com/v1/namespaces/${PROJECT_ID}/jobs/${JOB_NAME}:run\" \\\n",
        "        --http-method POST \\\n",
        "        --oidc-service-account-email ${SERVICE_ACCOUNT}\n",
        "\n",
        "```"
      ]
    }
  ],
  "metadata": {
    "colab": {
      "provenance": [],
      "include_colab_link": true
    },
    "kernelspec": {
      "display_name": "Python 3",
      "name": "python3"
    },
    "language_info": {
      "name": "python"
    }
  },
  "nbformat": 4,
  "nbformat_minor": 0
}