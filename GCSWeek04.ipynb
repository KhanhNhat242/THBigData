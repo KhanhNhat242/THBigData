{
  "cells": [
    {
      "cell_type": "markdown",
      "metadata": {
        "id": "aIVfez_Eq8s_"
      },
      "source": [
        "# Cài đặt gcloud"
      ]
    },
    {
      "cell_type": "markdown",
      "metadata": {
        "id": "rQAfzveZq_-T"
      },
      "source": [
        "Cài đặt gcloud theo link và hướng dẫn ở đây:\n",
        "\n",
        "https://cloud.google.com/sdk/docs/install\n",
        "\n",
        "### Một số câu lệnh\n",
        "\n",
        "Sau khi cài đặt xong, chúng ta sử dụng một số câu lệnh sau:\n",
        "\n",
        "Đăng nhập vào app gcloud\n",
        "```\n",
        "gcloud auth login\n",
        "```\n",
        "Lấy crediential để có thể chạy code trên máy local:\n",
        "\n",
        "```\n",
        "gcloud auth application-default login\n",
        "```\n",
        "\n",
        "Update gcloud\n",
        "```\n",
        "gcloud components update\n",
        "```\n",
        "\n",
        "Update setting về vùng\n",
        "```\n",
        "gcloud config set compute/region asia-east1\n",
        "```\n",
        "\n",
        "### Nếu bạn có nhiều account và project\n",
        "List Account và project\n",
        "```\n",
        "gcloud auth list\n",
        "gcloud projects list --sort-by=projectId\n",
        "```\n",
        "\n",
        "\n",
        "Set Account và Project\n",
        "\n",
        "```\n",
        "gcloud config set account ACCOUNT_EMAIL\n",
        "gcloud config set projects PROJECT_ID\n",
        "```\n",
        "\n",
        "\n",
        "Nếu sử dụng service account nên cấu hình environment variable tới\n",
        "GOOGLE_APPLICATION_CREDENTIALS\n",
        "```\n",
        "export GOOGLE_APPLICATION_CREDENTIALS=\"path/to/service/account\"\n",
        "```"
      ]
    },
    {
      "cell_type": "markdown",
      "metadata": {
        "id": "GwDTqr28bs7D"
      },
      "source": [
        "# Tạo service Account\n",
        "\n",
        "batch-job-service-account\n",
        "\n",
        "<!-- @test-app-309909.iam.gserviceaccount.com -->"
      ]
    },
    {
      "cell_type": "markdown",
      "metadata": {
        "id": "O6vr3aUZtCAA"
      },
      "source": [
        "# Thao tác với gs\n",
        "\n",
        "Cài đặt thư viện trên python"
      ]
    },
    {
      "cell_type": "code",
      "source": [
        "!pip install --upgrade google-cloud-storage"
      ],
      "metadata": {
        "id": "CxvrVj_BDkwX",
        "colab": {
          "base_uri": "https://localhost:8080/"
        },
        "outputId": "9681db95-dd62-47ac-d52f-a4702f7eba6d"
      },
      "execution_count": null,
      "outputs": [
        {
          "output_type": "stream",
          "name": "stdout",
          "text": [
            "Requirement already satisfied: google-cloud-storage in /usr/local/lib/python3.10/dist-packages (2.15.0)\n",
            "Requirement already satisfied: google-auth<3.0dev,>=2.26.1 in /usr/local/lib/python3.10/dist-packages (from google-cloud-storage) (2.27.0)\n",
            "Requirement already satisfied: google-api-core<3.0.0dev,>=2.15.0 in /usr/local/lib/python3.10/dist-packages (from google-cloud-storage) (2.17.1)\n",
            "Requirement already satisfied: google-cloud-core<3.0dev,>=2.3.0 in /usr/local/lib/python3.10/dist-packages (from google-cloud-storage) (2.3.3)\n",
            "Requirement already satisfied: google-resumable-media>=2.6.0 in /usr/local/lib/python3.10/dist-packages (from google-cloud-storage) (2.7.0)\n",
            "Requirement already satisfied: requests<3.0.0dev,>=2.18.0 in /usr/local/lib/python3.10/dist-packages (from google-cloud-storage) (2.31.0)\n",
            "Requirement already satisfied: google-crc32c<2.0dev,>=1.0 in /usr/local/lib/python3.10/dist-packages (from google-cloud-storage) (1.5.0)\n",
            "Requirement already satisfied: googleapis-common-protos<2.0.dev0,>=1.56.2 in /usr/local/lib/python3.10/dist-packages (from google-api-core<3.0.0dev,>=2.15.0->google-cloud-storage) (1.62.0)\n",
            "Requirement already satisfied: protobuf!=3.20.0,!=3.20.1,!=4.21.0,!=4.21.1,!=4.21.2,!=4.21.3,!=4.21.4,!=4.21.5,<5.0.0.dev0,>=3.19.5 in /usr/local/lib/python3.10/dist-packages (from google-api-core<3.0.0dev,>=2.15.0->google-cloud-storage) (3.20.3)\n",
            "Requirement already satisfied: cachetools<6.0,>=2.0.0 in /usr/local/lib/python3.10/dist-packages (from google-auth<3.0dev,>=2.26.1->google-cloud-storage) (5.3.3)\n",
            "Requirement already satisfied: pyasn1-modules>=0.2.1 in /usr/local/lib/python3.10/dist-packages (from google-auth<3.0dev,>=2.26.1->google-cloud-storage) (0.3.0)\n",
            "Requirement already satisfied: rsa<5,>=3.1.4 in /usr/local/lib/python3.10/dist-packages (from google-auth<3.0dev,>=2.26.1->google-cloud-storage) (4.9)\n",
            "Requirement already satisfied: charset-normalizer<4,>=2 in /usr/local/lib/python3.10/dist-packages (from requests<3.0.0dev,>=2.18.0->google-cloud-storage) (3.3.2)\n",
            "Requirement already satisfied: idna<4,>=2.5 in /usr/local/lib/python3.10/dist-packages (from requests<3.0.0dev,>=2.18.0->google-cloud-storage) (3.6)\n",
            "Requirement already satisfied: urllib3<3,>=1.21.1 in /usr/local/lib/python3.10/dist-packages (from requests<3.0.0dev,>=2.18.0->google-cloud-storage) (2.0.7)\n",
            "Requirement already satisfied: certifi>=2017.4.17 in /usr/local/lib/python3.10/dist-packages (from requests<3.0.0dev,>=2.18.0->google-cloud-storage) (2024.2.2)\n",
            "Requirement already satisfied: pyasn1<0.6.0,>=0.4.6 in /usr/local/lib/python3.10/dist-packages (from pyasn1-modules>=0.2.1->google-auth<3.0dev,>=2.26.1->google-cloud-storage) (0.5.1)\n"
          ]
        }
      ]
    },
    {
      "cell_type": "code",
      "source": [
        "!gcloud info --run-diagnostics"
      ],
      "metadata": {
        "colab": {
          "base_uri": "https://localhost:8080/"
        },
        "id": "j5vCxeyTOWaJ",
        "outputId": "e8d4c016-0957-4620-c555-fb43c1868e78"
      },
      "execution_count": null,
      "outputs": [
        {
          "output_type": "stream",
          "name": "stdout",
          "text": [
            "Network diagnostic detects and fixes local network connection issues.\n",
            "Reachability Check passed.\n",
            "Network diagnostic passed (1/1 checks passed).\n",
            "\n",
            "Property diagnostic detects issues that may be caused by properties.\n",
            "\u001b[1;31mERROR:\u001b[0m Hidden Property Check failed.\n",
            "The following hidden properties have been set:\n",
            "    [compute/gce_metadata_read_timeout_sec]\n",
            "Properties files\n",
            "    User: /content/.config/configurations/config_default\n",
            "    Installation: None\n",
            "\n",
            "\u001b[1;31mERROR:\u001b[0m Property diagnostic failed (0/1 checks passed).\n",
            "\n",
            "\u001b[1;31mERROR:\u001b[0m (gcloud.info) Some of the checks in diagnostics failed.\n"
          ]
        }
      ]
    },
    {
      "cell_type": "code",
      "source": [
        "!gcloud auth application-default login"
      ],
      "metadata": {
        "colab": {
          "base_uri": "https://localhost:8080/"
        },
        "id": "0IRciFXuDrYb",
        "outputId": "4fddcf4a-8a88-46f6-9514-a70215a0d6fc"
      },
      "execution_count": null,
      "outputs": [
        {
          "output_type": "stream",
          "name": "stdout",
          "text": [
            "Go to the following link in your browser:\n",
            "\n",
            "    https://accounts.google.com/o/oauth2/auth?response_type=code&client_id=764086051850-6qr4p6gpi6hn506pt8ejuq83di341hur.apps.googleusercontent.com&redirect_uri=https%3A%2F%2Fsdk.cloud.google.com%2Fapplicationdefaultauthcode.html&scope=openid+https%3A%2F%2Fwww.googleapis.com%2Fauth%2Fuserinfo.email+https%3A%2F%2Fwww.googleapis.com%2Fauth%2Fcloud-platform+https%3A%2F%2Fwww.googleapis.com%2Fauth%2Fsqlservice.login&state=10kbjS097VSeJ2KXT0tPHEnRz8wtDM&prompt=consent&token_usage=remote&access_type=offline&code_challenge=6DlKXEVslnB89yPNPOR59lHw2JZ_dZtDv94tOyQzlDw&code_challenge_method=S256\n",
            "\n",
            "Enter authorization code: 4/0AeaYSHByOvYpu0bm7SeZznBSdYl_aSBTyIsk0PWH4M6-AfbBd9l2Sy0A1EjSzUpRNusnCw\n",
            "\n",
            "Credentials saved to file: [/content/.config/application_default_credentials.json]\n",
            "\n",
            "These credentials will be used by any library that requests Application Default Credentials (ADC).\n",
            "\u001b[1;33mWARNING:\u001b[0m \n",
            "Cannot find a quota project to add to ADC. You might receive a \"quota exceeded\" or \"API not enabled\" error. Run $ gcloud auth application-default set-quota-project to add a quota project.\n"
          ]
        }
      ]
    },
    {
      "cell_type": "code",
      "source": [
        "!gcloud auth login"
      ],
      "metadata": {
        "colab": {
          "base_uri": "https://localhost:8080/"
        },
        "id": "vf28o8mSD7oo",
        "outputId": "c0e6c6af-f411-48fe-cf18-ebed5b5acd94"
      },
      "execution_count": null,
      "outputs": [
        {
          "output_type": "stream",
          "name": "stdout",
          "text": [
            "Go to the following link in your browser:\n",
            "\n",
            "    https://accounts.google.com/o/oauth2/auth?response_type=code&client_id=32555940559.apps.googleusercontent.com&redirect_uri=https%3A%2F%2Fsdk.cloud.google.com%2Fauthcode.html&scope=openid+https%3A%2F%2Fwww.googleapis.com%2Fauth%2Fuserinfo.email+https%3A%2F%2Fwww.googleapis.com%2Fauth%2Fcloud-platform+https%3A%2F%2Fwww.googleapis.com%2Fauth%2Fappengine.admin+https%3A%2F%2Fwww.googleapis.com%2Fauth%2Fsqlservice.login+https%3A%2F%2Fwww.googleapis.com%2Fauth%2Fcompute+https%3A%2F%2Fwww.googleapis.com%2Fauth%2Faccounts.reauth&state=jqIDmkPFgje4oKHFutsx53pMwL3jhQ&prompt=consent&token_usage=remote&access_type=offline&code_challenge=ZA5yMc3UOrADQbmh2nhVMnrdgwC8DVPcDoAUOkz3r_E&code_challenge_method=S256\n",
            "\n",
            "Enter authorization code: 4/0AeaYSHD-A2lzEkvePTDEsbDmO5W531pPLHgmGDy3QQcpelNZOKo8fXBFendPw18MFhR_uQ\n",
            "\n",
            "You are now logged in as [khanhnhat24022002@gmail.com].\n",
            "Your current project is [None].  You can change this setting by running:\n",
            "  $ gcloud config set project PROJECT_ID\n"
          ]
        }
      ]
    },
    {
      "cell_type": "code",
      "source": [
        "!gcloud info --run-diagnostics"
      ],
      "metadata": {
        "colab": {
          "base_uri": "https://localhost:8080/"
        },
        "id": "EFmtC9auOnDx",
        "outputId": "d1262879-45dc-496c-ba20-528e34128a6a"
      },
      "execution_count": null,
      "outputs": [
        {
          "output_type": "stream",
          "name": "stdout",
          "text": [
            "Network diagnostic detects and fixes local network connection issues.\n",
            "Reachability Check passed.\n",
            "Network diagnostic passed (1/1 checks passed).\n",
            "\n",
            "Property diagnostic detects issues that may be caused by properties.\n",
            "\u001b[1;31mERROR:\u001b[0m Hidden Property Check failed.\n",
            "The following hidden properties have been set:\n",
            "    [compute/gce_metadata_read_timeout_sec]\n",
            "Properties files\n",
            "    User: /content/.config/configurations/config_default\n",
            "    Installation: None\n",
            "\n",
            "\u001b[1;31mERROR:\u001b[0m Property diagnostic failed (0/1 checks passed).\n",
            "\n",
            "\u001b[1;31mERROR:\u001b[0m (gcloud.info) Some of the checks in diagnostics failed.\n"
          ]
        }
      ]
    },
    {
      "cell_type": "code",
      "source": [
        "from google.colab import auth\n",
        "\n",
        "PROJECT_ID = \"fourth-epigram-415802\"\n",
        "auth.authenticate_user(project_id = PROJECT_ID)\n"
      ],
      "metadata": {
        "id": "EA1Q20KaEGb8"
      },
      "execution_count": null,
      "outputs": []
    },
    {
      "cell_type": "code",
      "source": [
        "from google.cloud import storage\n",
        "PROJECT_ID = \"fourth-epigram-415802\"\n",
        "storage_client = storage.Client(project= PROJECT_ID)"
      ],
      "metadata": {
        "id": "Ukf8yH_jEhCd"
      },
      "execution_count": null,
      "outputs": []
    },
    {
      "cell_type": "code",
      "source": [
        "!gcloud config set project fourth-epigram-415802"
      ],
      "metadata": {
        "colab": {
          "base_uri": "https://localhost:8080/"
        },
        "id": "A6XMR3dmO4lT",
        "outputId": "1dc022ca-f369-4c9e-d29f-52be32f15c5b"
      },
      "execution_count": null,
      "outputs": [
        {
          "output_type": "stream",
          "name": "stdout",
          "text": [
            "Updated property [core/project].\n"
          ]
        }
      ]
    },
    {
      "cell_type": "code",
      "source": [
        "# tạo bucket\n",
        "# BUCKET_NAME = \"data_clean\"\n",
        "# bucket = storage_client.create_bucket(BUCKET_NAME)"
      ],
      "metadata": {
        "id": "JEdJw9EyEpuH"
      },
      "execution_count": null,
      "outputs": []
    },
    {
      "cell_type": "code",
      "source": [
        "# lấy bucket\n",
        "BUCKET_NAME = \"demo01_processingg\"\n",
        "bucket = storage_client.get_bucket(BUCKET_NAME)\n",
        "bucket"
      ],
      "metadata": {
        "colab": {
          "base_uri": "https://localhost:8080/"
        },
        "id": "Qo5wZX7-FAli",
        "outputId": "2905cac6-4f9d-4e40-e6d6-4f79b3a679e2"
      },
      "execution_count": null,
      "outputs": [
        {
          "output_type": "execute_result",
          "data": {
            "text/plain": [
              "<Bucket: demo01_processingg>"
            ]
          },
          "metadata": {},
          "execution_count": 10
        }
      ]
    },
    {
      "cell_type": "code",
      "source": [
        "# list các file trong bucket với đường dẫn\n",
        "PREFIX = \"random_products1.json\"\n",
        "for blob in bucket.list_blobs(prefix = PREFIX):\n",
        "  print(blob)"
      ],
      "metadata": {
        "id": "w09kMDd3FN1F",
        "colab": {
          "base_uri": "https://localhost:8080/"
        },
        "outputId": "d848fb2f-5db8-467f-d29a-6b3da9254d4b"
      },
      "execution_count": null,
      "outputs": [
        {
          "output_type": "stream",
          "name": "stdout",
          "text": [
            "<Blob: demo01_processingg, random_products1.json, 1709626406033428>\n"
          ]
        }
      ]
    },
    {
      "cell_type": "code",
      "source": [
        "# câu lệnh tương tự list các file trong bucket với đường dẫn\n",
        "for blob in storage_client.list_blobs(BUCKET_NAME, prefix = PREFIX):\n",
        "  print(blob)"
      ],
      "metadata": {
        "colab": {
          "base_uri": "https://localhost:8080/"
        },
        "id": "zWdTd7I8FhqN",
        "outputId": "b94304d9-e4b1-4283-a368-a93e92c4c44e"
      },
      "execution_count": null,
      "outputs": [
        {
          "output_type": "stream",
          "name": "stdout",
          "text": [
            "<Blob: demo01_processingg, random_products1.json, 1709626406033428>\n"
          ]
        }
      ]
    },
    {
      "cell_type": "code",
      "execution_count": null,
      "metadata": {
        "id": "BwLPFXm-w7Eu"
      },
      "outputs": [],
      "source": [
        "# Upload file lên blob\n",
        "# blob.upload_from_filename(LOCAL_FILE_PATH)"
      ]
    },
    {
      "cell_type": "code",
      "source": [
        "# lấy blob/ tạo blob\n",
        "GCS_BLOB_NAME = \"random_products1.json\"\n",
        "blob = bucket.blob(GCS_BLOB_NAME)\n",
        "blob"
      ],
      "metadata": {
        "id": "XxN3l3kqF0U9",
        "colab": {
          "base_uri": "https://localhost:8080/"
        },
        "outputId": "0e8f82c0-3771-43aa-f154-269c25ed9dce"
      },
      "execution_count": null,
      "outputs": [
        {
          "output_type": "execute_result",
          "data": {
            "text/plain": [
              "<Blob: demo01_processingg, random_products1.json, None>"
            ]
          },
          "metadata": {},
          "execution_count": 37
        }
      ]
    },
    {
      "cell_type": "code",
      "source": [
        "# kiểm tra có tồn tại hay không\n",
        "is_existed = blob.exists()\n",
        "is_existed"
      ],
      "metadata": {
        "colab": {
          "base_uri": "https://localhost:8080/"
        },
        "id": "_N9-nBXfGFSx",
        "outputId": "1fcb57c2-ca88-46b1-cf2e-0ca96f5bd62b"
      },
      "execution_count": null,
      "outputs": [
        {
          "output_type": "execute_result",
          "data": {
            "text/plain": [
              "True"
            ]
          },
          "metadata": {},
          "execution_count": 38
        }
      ]
    },
    {
      "cell_type": "code",
      "source": [
        "# download file về máy\n",
        "# đổi tên đường dẫn tuỳ ý\n",
        "LOCAL_FILE_PATH = \"./downloaded.json\"\n",
        "\n",
        "blob.download_to_filename(LOCAL_FILE_PATH)\n"
      ],
      "metadata": {
        "id": "oRzw8KA3GOfU"
      },
      "execution_count": null,
      "outputs": []
    },
    {
      "cell_type": "code",
      "source": [
        "# download file vào bộ nhớ\n",
        "data = blob.download_as_bytes()"
      ],
      "metadata": {
        "id": "5bBzK2JDGhZB"
      },
      "execution_count": null,
      "outputs": []
    },
    {
      "cell_type": "code",
      "source": [
        "# data\n",
        "# Trường hợp data là file json\n",
        "for line in data.decode('utf-8').split(\"/n\"):\n",
        "    print(line)\n",
        "    break"
      ],
      "metadata": {
        "id": "ojI8it3OGpUi",
        "colab": {
          "base_uri": "https://localhost:8080/"
        },
        "outputId": "8f4fb9f6-4b8d-4946-9cb7-90268bc916a8"
      },
      "execution_count": null,
      "outputs": [
        {
          "output_type": "stream",
          "name": "stdout",
          "text": [
            "{\r\n",
            "        \"Id\": 1,\r\n",
            "        \"PackageId\": 1,\r\n",
            "        \"UserId\": 8,\r\n",
            "        \"VideoUrl\": \"https://www.youtube.com/watch?v=dQw4w9WgXcQ\",\r\n",
            "        \"ImageUrlMain\": \"https://picsum.photos/id/460/200/300\",\r\n",
            "        \"otherImgs\": [],\r\n",
            "        \"CategoryId\": \"SchoolSupply\",\r\n",
            "        \"Name\": \"Mcguire, Collier and Dickerson\",\r\n",
            "        \"University\": \"Group\",\r\n",
            "        \"Price\": 155,\r\n",
            "        \"PriceReceived\": 355,\r\n",
            "        \"Description\": \"Management arm your player decide crime eight. Player accept yes skill live once only.\\nMagazine development travel health again style. Range my name heavy.\\nLast whole may standard model them language level. Mother defense hotel section.\\nFuture wind choose expect school claim available. Southern identify role PM maintain. Summer attention set their.\\nValue tree establish it control father. Pressure every your occur Mr floor.\\nYour force weight picture food Democrat. Sound technology break close concern else building play.\\nMarket past leader strong local cover include race. Ahead mind resource. Officer million doctor perform candidate service particular.\\nPractice do fact wish herself. New bag meeting play popular beyond save.\\nCustomer difficult public individual. Wish cut good own country.\\nStay medical standard camera may quite relationship.\\nInstitution report yet. Page issue market miss what improve. Method level because full agree west drug gun.\\nCurrent possible experience south people.\\nComputer fly tax.\\nBlack late voice peace game. Great eight skin treat city outside.\\nParticularly expect reach oil thousand money make. Player represent break whether. Describe pretty law.\\nArea as market ask say. Reason throw ten put table summer.\\nEnergy former visit never sign. Sport commercial middle. Even put recent create. Factor bank kitchen.\\nDrive style treat music per. Cell my business blood difficult.\\nDefense office responsibility TV offer operation similar. Behind turn cell good politics.\\nLikely half respond event upon model. Author act employee.\\nMusic candidate never body. Write large moment current foot can mother book.\\nYour your firm raise. Give hair like maintain effort act. Process month professional myself accept listen author production.\\nRise performance image road. Apply company claim reduce. Necessary wrong concern trip box capital.\\nBody by now true think. Performance blood art. Likely fact community really attack camera final group.\",\r\n",
            "        \"Address\": \"63434 Hoffman Trail Apt. 868\\nMarshallshire, OR 73096\",\r\n",
            "        \"District\": \"Robertsland\",\r\n",
            "        \"Status\": \"InStock\",\r\n",
            "        \"Gift\": \"No\",\r\n",
            "        \"CreatAt\": \"2024-01-21 15:52:52\",\r\n",
            "        \"Check\": \"DaDat\"\r\n",
            "    },\r\n",
            "    {\r\n",
            "        \"Id\": 2,\r\n",
            "        \"PackageId\": 3,\r\n",
            "        \"UserId\": 8,\r\n",
            "        \"VideoUrl\": \"https://www.youtube.com/watch?v=Ks-_Mh1QhMc\",\r\n",
            "        \"ImageUrlMain\": \"https://picsum.photos/id/309/200/300\",\r\n",
            "        \"otherImgs\": [\r\n",
            "            \"https://picsum.photos/id/660/200/300\"\r\n",
            "        ],\r\n",
            "        \"CategoryId\": \"ForYou\",\r\n",
            "        \"Name\": \"Brown LLC\",\r\n",
            "        \"University\": \"LLC\",\r\n",
            "        \"Price\": 608,\r\n",
            "        \"PriceReceived\": 641,\r\n",
            "        \"Description\": \"Team two theory order break. Chair my us look. A statement event.\\nWalk watch very region. Tax card control. Beautiful exist better single writer one five rule.\\nCup drug ready condition. Wife as research. View detail expect marriage news hundred.\\nBook concern discussion. Talk service Democrat guy garden stop PM.\\nReach will level another point character. Yard another song north doctor capital.\\nFive stop notice partner among. Energy while purpose forget scene.\\nColor few must really once to significant. Assume rich east stage.\\nCompany cold class deep.\\nPrice part whether picture. Peace mind property seem.\\nOther us second tonight. Central girl under action mean officer pressure. History law project people arrive.\\nSo economy value lawyer step rock. Girl face lawyer large help.\\nPart myself onto left personal marriage newspaper maintain.\\nProgram focus sign form. Speech experience property country whether student music bad. Must pay alone.\\nWalk discuss bad beyond. Behind million church tax when place. Travel television change color suggest generation.\\nModel hundred drop government start. Option official plan future on probably.\\nIdea important score will. Chance type remember arrive investment represent trip. Medical national community recently.\\nSection behind second trip. Wall note note serve state cost newspaper light. Point threat history chance available avoid.\\nDream impact read drive reveal production. War religious list until worker top medical alone.\\nIdea step little develop wish election decade. Vote activity safe too enjoy speech. Agency at hair meet catch art. Agree left those art.\\nSocial it visit support many. Collection physical without discover. Debate simply learn.\\nGreat month before learn live. Doctor reason many enough list traditional society. Financial manager even leave up.\\nBuy travel set. Much specific doctor month. Degree sea believe six quite opportunity wrong.\",\r\n",
            "        \"Address\": \"2532 Holmes Inlet Suite 575\\nNorth Jeffrey, ME 85376\",\r\n",
            "        \"District\": \"North Angelatown\",\r\n",
            "        \"Status\": \"OutOfStock\",\r\n",
            "        \"Gift\": \"No\",\r\n",
            "        \"CreatAt\": \"2024-01-21 15:52:52\",\r\n",
            "        \"Check\": \"ConHang\"\r\n",
            "    },\r\n",
            "    {\r\n",
            "        \"Id\": 3,\r\n",
            "        \"PackageId\": 3,\r\n",
            "        \"UserId\": 8,\r\n",
            "        \"VideoUrl\": \"https://www.youtube.com/watch?v=Ks-_Mh1QhMc\",\r\n",
            "        \"ImageUrlMain\": \"https://picsum.photos/id/718/200/300\",\r\n",
            "        \"otherImgs\": [\r\n",
            "            \"https://picsum.photos/id/630/200/300\"\r\n",
            "        ],\r\n",
            "        \"CategoryId\": \"Book\",\r\n",
            "        \"Name\": \"Welch-Shepherd\",\r\n",
            "        \"University\": \"Inc\",\r\n",
            "        \"Price\": 627,\r\n",
            "        \"PriceReceived\": 777,\r\n",
            "        \"Description\": \"Animal eight history information such. Serve us government movement leave.\\nSomething indeed admit doctor instead on decade government. Somebody student speech space.\\nMedical degree per performance ahead usually hotel. Bring than read be reality. Same main hope tell.\\nSet history real parent television. Star former speak federal however.\\nAnother event them employee behind. Experience bad gas simple season. Human quickly style which act worker character.\\nWeight special doctor none difference consider. Experience training push expect according us.\\nFamily involve inside concern. Defense glass several compare. Expect tend animal.\\nCertainly from radio mind month collection. War manage serve prove. While agree whatever action garden. Play field most whole across though work cold.\\nAccount fill capital avoid test shake boy. Word character see even glass popular.\\nArea chance white church on range. Million adult wrong seat phone sense stuff.\\nMuch almost nor answer present answer culture. Media positive hotel tonight.\\nSeek effort control activity receive attorney. Main wall yet almost return similar section. Argue dog law suggest party door realize.\\nFull compare cell company market method catch. Cultural now dinner listen instead by rich beyond. Above Mrs win improve get.\\nAction consider key tough. Expect green whole will throughout beyond her.\\nDoctor hotel wear account include stuff firm. Suggest speech level body office. Tough authority receive surface partner office mother.\\nField their he other perhaps easy TV pattern. Meet prevent pattern plan maybe again avoid. Pretty develop try break.\\nRace current rock process process beyond coach late. Common method professional impact.\\nFew deal at challenge. Dream oil second paper.\\nScience store clear example central remain. Heavy own prevent leg tell task.\\nMight easy grow alone fine base go. Western identify continue your rest control.\",\r\n",
            "        \"Address\": \"08646 Tyler Bridge\\nSharonhaven, KY 31496\",\r\n",
            "        \"District\": \"Stephaniechester\",\r\n",
            "        \"Status\": \"OutOfStock\",\r\n",
            "        \"Gift\": \"Yes\",\r\n",
            "        \"CreatAt\": \"2024-01-21 15:52:52\",\r\n",
            "        \"Check\": \"ConHang\"\r\n",
            "    },\r\n",
            "    {\r\n",
            "        \"Id\": 4,\r\n",
            "        \"PackageId\": 3,\r\n",
            "        \"UserId\": 3,\r\n",
            "        \"VideoUrl\": \"https://www.youtube.com/watch?v=dQw4w9WgXcQ\",\r\n",
            "        \"ImageUrlMain\": \"https://picsum.photos/id/370/200/300\",\r\n",
            "        \"otherImgs\": [\r\n",
            "            \"https://picsum.photos/id/83/200/300\",\r\n",
            "            \"https://picsum.photos/id/661/200/300\"\r\n",
            "        ],\r\n",
            "        \"CategoryId\": \"HouseWare\",\r\n",
            "        \"Name\": \"King, Ramirez and Montes\",\r\n",
            "        \"University\": \"PLC\",\r\n",
            "        \"Price\": 586,\r\n",
            "        \"PriceReceived\": 385,\r\n",
            "        \"Description\": \"Identify party behavior city security member positive. Herself fight well her letter price heavy network.\\nAgreement education grow kind. Base future feeling head by Republican others.\\nBegin Democrat time will. Piece less relationship administration.\\nIn international word stop theory unit ground. Town administration pick prevent ok down. Record onto very window find himself drop.\\nNo yet others leg according which really. Money reason public where phone.\\nStage read near the. Find law outside PM.\\nGround structure scientist charge then still. Civil suddenly hotel stand great.\\nImage security star type star education air. Perform surface attack meet. Key particular their like.\\nHis throughout floor song ground. Reduce care local despite so news show everyone. Child certain probably himself necessary beat.\\nThen respond end behind his simple. Remember buy nature win imagine.\\nCultural let take generation night there drive. Set despite night call. Room relate general consumer bed indicate administration.\\nThis word mother top.\\nSituation interview live more finish. Subject always maintain sport organization new trip rate.\\nForeign learn plan car eye federal they. Note candidate year training.\\nMrs senior whose various remember where. Lay send wrong green guess responsibility itself. Out black sea quality.\\nWith prevent art themselves ability matter.\\nSo any huge reason create. Fast stop administration learn development old.\\nStage quality science fill represent hope. Another top poor perhaps score.\\nTerm student edge. Place fight beat church data contain. After listen left almost name short.\\nConsumer imagine green me though find ok. Control population author pretty bring opportunity. Might manage study box boy control.\\nVote wonder she knowledge again. Half where physical tree cover meeting. Sea bad thought.\\nEducation my once open. Realize floor certain for quality southern recognize teach. Weight particular blue option through choice.\",\r\n",
            "        \"Address\": \"27921 Wilson Junctions Apt. 843\\nWest Sandy, GA 23507\",\r\n",
            "        \"District\": \"East Christinastad\",\r\n",
            "        \"Status\": \"OutOfStock\",\r\n",
            "        \"Gift\": \"Yes\",\r\n",
            "        \"CreatAt\": \"2024-01-21 15:52:52\",\r\n",
            "        \"Check\": \"DaDat\"\r\n",
            "    },\r\n",
            "    {\r\n",
            "        \"Id\": 5,\r\n",
            "        \"PackageId\": 3,\r\n",
            "        \"UserId\": 10,\r\n",
            "        \"VideoUrl\": \"https://www.youtube.com/watch?v=Ks-_Mh1QhMc\",\r\n",
            "        \"ImageUrlMain\": \"https://picsum.photos/id/21/200/300\",\r\n",
            "        \"otherImgs\": [\r\n",
            "            \"https://picsum.photos/id/710/200/300\"\r\n",
            "        ],\r\n",
            "        \"CategoryId\": \"HouseWare\",\r\n",
            "        \"Name\": \"Orr-Preston\",\r\n",
            "        \"University\": \"Inc\",\r\n",
            "        \"Price\": 932,\r\n",
            "        \"PriceReceived\": 236,\r\n",
            "        \"Description\": \"Nearly we drug difference word. Century plan have. Everybody on marriage Mrs least she animal.\\nMouth record actually security. Whether woman partner. Large necessary build me.\\nSimple end camera mouth hotel analysis TV. Church model source attack sense hair answer. Degree true site magazine explain direction camera.\\nVoice care sure guess number house wait. School light mouth treatment type treatment drive.\\nHear billion democratic wear. They thought have two there mention energy.\\nCentury city interest purpose drug chance thousand. Environment life step carry feel forget. Add make chance must consider.\\nLeft community young onto. Industry others event like certainly.\\nTeacher contain might fire reality. Woman these machine weight be center wait. Hot they huge two determine.\\nSit recognize different. Order factor word his at. Arrive yes shake mission around view.\\nHerself it avoid few. Account product painting despite leg. Each million into professor as anything man.\\nLeast kid open again science. Build interesting letter position doctor road art continue. Worry name travel.\\nPlant analysis school dark few music direction. Help star break claim mouth take discover feeling.\\nRepresent unit cup traditional become service PM. Federal management itself act child quickly. Glass near build investment.\\nCouple movement government heart follow. Account popular pretty police society consumer oil.\\nStation growth that wrong result rate born crime. Attorney him must measure like parent because.\\nAllow author government professional agent radio Mr. Office collection gun father language time.\\nWriter fall spring surface five. Win program wait Democrat.\\nList son green career. Agency success picture Democrat participant.\\nControl onto who. Bank responsibility go north single stop. Perhaps when skin glass officer almost necessary.\\nBecause number its. Experience life oil.\\nOf the available task where yard. News more line opportunity.\",\r\n",
            "        \"Address\": \"05720 Devon Pines Suite 508\\nNew Dustinchester, IL 17827\",\r\n",
            "        \"District\": \"Lake Frank\",\r\n",
            "        \"Status\": \"InStock\",\r\n",
            "        \"Gift\": \"Yes\",\r\n",
            "        \"CreatAt\": \"2024-01-21 15:52:52\",\r\n",
            "        \"Check\": \"DaBan\"\r\n",
            "    },\r\n",
            "    {\r\n",
            "        \"Id\": 6,\r\n",
            "        \"PackageId\": 1,\r\n",
            "        \"UserId\": 8,\r\n",
            "        \"VideoUrl\": \"https://www.youtube.com/watch?v=dQw4w9WgXcQ\",\r\n",
            "        \"ImageUrlMain\": \"https://picsum.photos/id/203/200/300\",\r\n",
            "        \"otherImgs\": [\r\n",
            "            \"https://picsum.photos/id/407/200/300\",\r\n",
            "            \"https://picsum.photos/id/517/200/300\",\r\n",
            "            \"https://picsum.photos/id/620/200/300\",\r\n",
            "            \"https://picsum.photos/id/670/200/300\"\r\n",
            "        ],\r\n",
            "        \"CategoryId\": \"ElectricSupply\",\r\n",
            "        \"Name\": \"Goodwin-Warren\",\r\n",
            "        \"University\": \"LLC\",\r\n",
            "        \"Price\": 909,\r\n",
            "        \"PriceReceived\": 213,\r\n",
            "        \"Description\": \"Save late young call hand. Series build happy cup how visit.\\nMeet six effect sometimes hand. Suddenly thus staff machine protect bank. Industry article quickly might notice.\\nNot fund treat subject idea him.\\nCourse both store. Expert tend court road rest book wear. Crime begin best community nice though southern front.\\nWatch someone of create remember yard. Television strategy Democrat individual.\\nWhatever along number place participant. Hour kitchen image suddenly trip government wife modern. Case child someone under red letter new final.\\nHimself eight line would opportunity raise one. Firm test me will fine or. Sing then table middle above face.\\nYes executive marriage. Writer old defense more. Keep perform cut large. Field increase cost wonder home.\\nImage develop participant finish career. Spring save yet main large success.\\nApproach evidence should always. Leg lot fire actually only. One fine truth. Production move TV everybody.\\nHe knowledge ok others professional price. Local weight yet four consumer. Add writer sell responsibility bad agreement order.\\nThird keep six any deep. Card series hit world finish north heavy.\\nFollow right listen run cover. Tax contain fine a few. Boy century dinner someone.\\nTrial serious wish want. Subject yet most until opportunity.\\nMoment reflect boy. Far that foot child reveal. Much pressure house amount notice.\\nWar hospital protect outside. Team meeting what commercial art life. Popular college card thank reveal.\\nSeveral society because later. Painting top green will share want.\\nEnjoy hope region fine. Wide artist bit fall cup Congress term its.\\nPlayer which office land mouth easy. Task us field forget attention.\\nGrowth near outside not. Money hold structure party. Car the more none increase.\\nFinal exist seven. Me wrong tax population. Respond drop less student science pretty.\\nAnother huge soon energy back almost.\\nSuggest eight happen figure still. Better include exist finally. Enter building look blood few.\",\r\n",
            "        \"Address\": \"PSC 8219, Box 6178\\nAPO AP 48072\",\r\n",
            "        \"District\": \"Jefferyborough\",\r\n",
            "        \"Status\": \"OutOfStock\",\r\n",
            "        \"Gift\": \"No\",\r\n",
            "        \"CreatAt\": \"2024-01-21 15:52:52\",\r\n",
            "        \"Check\": \"ConHang\"\r\n",
            "    },\r\n",
            "    {\r\n",
            "        \"Id\": 7,\r\n",
            "        \"PackageId\": 1,\r\n",
            "        \"UserId\": 5,\r\n",
            "        \"VideoUrl\": \"https://www.youtube.com/watch?v=Ks-_Mh1QhMc\",\r\n",
            "        \"ImageUrlMain\": \"https://picsum.photos/id/886/200/300\",\r\n",
            "        \"otherImgs\": [],\r\n",
            "        \"CategoryId\": \"Sport&Beutify\",\r\n",
            "        \"Name\": \"Swanson-Carroll\",\r\n",
            "        \"University\": \"Ltd\",\r\n",
            "        \"Price\": 247,\r\n",
            "        \"PriceReceived\": 838,\r\n",
            "        \"Description\": \"Owner see dog indicate turn consider class. That red perform necessary animal morning.\\nUse site above ready. Fear police this health leader.\\nSound body budget reason data once with home. Base wrong wait. Send material as without find popular.\\nRepublican large help offer much way student. Why development if job scene among billion none. Matter cultural measure cost. Mission Congress instead do American scene.\\nEye building sit detail structure particularly tax. Run issue door democratic end else kid. Live wide fast. Very country movement brother upon authority.\\nDirector break trade cup situation. Make agency participant rich leave. Little building president without. Speak brother receive any must.\\nEnvironment chance difficult thousand responsibility. Industry person record clearly site. Leader hair determine law. Five daughter lawyer across power.\\nDespite election say better soldier care teach. Less could plan alone possible newspaper series shoulder.\\nAlso truth letter instead difference decade send crime. Group almost feeling example reduce. American trip raise.\\nOur near hair since yourself. Return gas institution.\\nGas where class through. No parent instead type Mr society general. Camera specific great two decision.\\nBecome beyond close. Suddenly even my dog garden.\\nCare well after ten end. Radio within different hospital would game. Good despite thing writer old.\\nAuthority skin near child. Red key consumer top stop send mouth.\\nAfter happy green. Campaign boy plan. Significant woman try five value in born still.\\nMay tax large many. According easy sing college. Radio marriage certainly practice seat. Side main expect exist free.\\nAny type truth least knowledge realize. Might similar create line century court PM. Garden spend poor often development performance energy.\\nCase however month tough sell whom ahead. Lay action record guy loss.\\nEntire prove arm talk.\\nOfficer spend large someone. All people share imagine her once until.\\nTest despite power upon.\",\r\n",
            "        \"Address\": \"8351 Brown Corner Apt. 468\\nAmbermouth, MS 28782\",\r\n",
            "        \"District\": \"West Janet\",\r\n",
            "        \"Status\": \"OutOfStock\",\r\n",
            "        \"Gift\": \"Yes\",\r\n",
            "        \"CreatAt\": \"2024-01-21 15:52:52\",\r\n",
            "        \"Check\": \"ConHang\"\r\n",
            "    },\r\n",
            "    {\r\n",
            "        \"Id\": 8,\r\n",
            "        \"PackageId\": 1,\r\n",
            "        \"UserId\": 2,\r\n",
            "        \"VideoUrl\": \"https://www.youtube.com/watch?v=dQw4w9WgXcQ\",\r\n",
            "        \"ImageUrlMain\": \"https://picsum.photos/id/251/200/300\",\r\n",
            "        \"otherImgs\": [],\r\n",
            "        \"CategoryId\": \"ElectricSupply\",\r\n",
            "        \"Name\": \"Douglas Group\",\r\n",
            "        \"University\": \"and Sons\",\r\n",
            "        \"Price\": 996,\r\n",
            "        \"PriceReceived\": 983,\r\n",
            "        \"Description\": \"Heavy design stop easy push. Ready research example skill seven develop more treat.\\nCollection fight product physical law. Front sign source they between. Blood city until significant fast pay manager.\\nAgreement political nearly wrong. Figure education wall remember bed right actually.\\nWish peace go realize building able think subject. Positive amount else floor who energy.\\nPerhaps employee gun measure laugh campaign develop. Single smile area upon cut white. Site teach tree.\\nShe low picture public.\\nEffort main occur within send effect voice democratic. Nice else season rather. Eight because more police challenge hair.\\nNorth sound base safe. Magazine indeed research consider store window.\\nRequire left weight pull front fear design religious. Product unit certainly himself.\\nNetwork remember in surface outside career. Require religious ready whether thank ten. Fast movie chair.\\nAlso no leave far. Friend list support lead than foot free.\\nHand Democrat fear anything pay. President since various traditional star check create card.\\nCase suffer star goal life. Story grow test discuss poor catch plan. Fill forget recent.\\nSay third management get information strong. Under glass prove former window result.\\nWho order democratic here choose this. Statement enter feeling put door.\\nMove walk reality idea. Include easy night factor similar center happy.\\nDecade evidence article place opportunity. Participant important yeah back newspaper. Anyone single perhaps adult wife ok. Page who late them.\\nHand themselves book suffer bring beyond majority. Information language treatment seven receive. Else plant decade since board fine water.\\nBecause official night response. Collection wide sell partner board never.\\nDuring realize risk one officer. Born ground star.\\nResponse you coach act order wife enter. War movie now. Building partner wrong both.\\nDetail expert democratic. Truth knowledge you everything police collection very. Stuff he feeling land staff reality catch.\",\r\n",
            "        \"Address\": \"23166 Flores Light Suite 601\\nPort Denise, GA 09662\",\r\n",
            "        \"District\": \"Dominguezhaven\",\r\n",
            "        \"Status\": \"InStock\",\r\n",
            "        \"Gift\": \"Yes\",\r\n",
            "        \"CreatAt\": \"2024-01-21 15:52:52\",\r\n",
            "        \"Check\": \"DaBan\"\r\n",
            "    },\r\n",
            "    {\r\n",
            "        \"Id\": 9,\r\n",
            "        \"PackageId\": 2,\r\n",
            "        \"UserId\": 5,\r\n",
            "        \"VideoUrl\": \"https://www.youtube.com/watch?v=Ks-_Mh1QhMc\",\r\n",
            "        \"ImageUrlMain\": \"https://picsum.photos/id/544/200/300\",\r\n",
            "        \"otherImgs\": [\r\n",
            "            \"https://picsum.photos/id/501/200/300\",\r\n",
            "            \"https://picsum.photos/id/450/200/300\"\r\n",
            "        ],\r\n",
            "        \"CategoryId\": \"ForYou\",\r\n",
            "        \"Name\": \"Rivera, Smith and Foster\",\r\n",
            "        \"University\": \"and Sons\",\r\n",
            "        \"Price\": 854,\r\n",
            "        \"PriceReceived\": 953,\r\n",
            "        \"Description\": \"Young until total. Idea century respond picture. Box all price someone generation hundred.\\nHand audience seem plant.\\nPolitics big fill loss new. Voice leg matter ability front.\\nOfficer force rise star area. Even tax career. Raise he level whole. Report attention of interesting PM cup.\\nSee sell nature political likely.\\nBudget else fill yes.\\nGovernment ever everybody network effort blue available than. Industry evidence cup special. Street name mean material.\\nReligious college subject argue to defense owner. Just better old game region. Why pay have several fly collection. Ability growth customer against build wife.\\nManager another likely air fish food soldier the. Star open owner world. Difference nor none nice young.\\nParticular pretty human none research country mind Mrs. Major ask kid me although style trouble.\\nMouth authority north spend respond month as. Class campaign go cut.\\nThere style better ahead. Bit agency city. Without head development technology quickly during.\\nWindow ok method professor laugh these. Quickly memory stand nation cut machine. Book where Republican get party stand.\\nGeneration join however which yet west. Bag order worry natural then feeling sense.\\nHeart skin expert build among people life authority. Listen mind artist.\\nDetail in card work weight none prove from. Billion lose run material. Reason authority system floor dinner lawyer land.\\nPass along today suddenly claim. Eye real quality best very. Meet establish arm star.\\nWeight certainly trip blood fight simply. Ask head visit prevent just. Sit other most from owner need.\\nRoom economy ago audience task Democrat image fight. Speech week shoulder forward dark effect new end.\\nOil as water couple serious nice start current. At happy Mr citizen present they color.\\nNext room level pull middle future. Attack economic job. Course large green ok forward.\\nBox until or this camera stay. Enjoy son full.\\nWrite environmental hundred movie.\",\r\n",
            "        \"Address\": \"58519 Susan Drive Suite 531\\nWest Cameronfurt, CO 77557\",\r\n",
            "        \"District\": \"Port Karinaland\",\r\n",
            "        \"Status\": \"OutOfStock\",\r\n",
            "        \"Gift\": \"Yes\",\r\n",
            "        \"CreatAt\": \"2024-01-21 15:52:52\",\r\n",
            "        \"Check\": \"DaDat\"\r\n",
            "    },\r\n",
            "    {\r\n",
            "        \"Id\": 10,\r\n",
            "        \"PackageId\": 1,\r\n",
            "        \"UserId\": 1,\r\n",
            "        \"VideoUrl\": \"https://www.youtube.com/watch?v=dQw4w9WgXcQ\",\r\n",
            "        \"ImageUrlMain\": \"https://picsum.photos/id/175/200/300\",\r\n",
            "        \"otherImgs\": [],\r\n",
            "        \"CategoryId\": \"Comic\",\r\n",
            "        \"Name\": \"White Inc\",\r\n",
            "        \"University\": \"Inc\",\r\n",
            "        \"Price\": 526,\r\n",
            "        \"PriceReceived\": 612,\r\n",
            "        \"Description\": \"Mr new listen past inside build training nothing. Physical gas generation identify several. Head try want end lay far attorney.\\nResult reflect be art available support. Last take kitchen administration summer. Pick sense goal light. Society soldier economy seat international area else.\\nTeacher represent catch would detail. Money story general green me author. Skin yourself and possible. Speak scene would air.\\nControl hair always least west it conference. Oil this become during all public. Center suffer you ask word detail.\\nRole room politics man draw side. Teacher him movement rest day. Into identify type third office dinner return.\\nRise detail product information part detail. At step left clear bank. Bill trouble environment speech else what. Fine appear continue none agreement along again.\\nKeep never kid camera hold movie.\\nVery I star their difference sing. Show describe pull language those necessary. Drive garden political.\\nForget staff name have morning around. Here hospital line have away.\\nRoad doctor treatment see. Assume environment significant nor. News put pressure subject artist chair foreign.\\nKnowledge prove news side save. Send tree remain environmental. Real per event organization effect.\\nReady data push. Wall election activity safe question these. Story listen include month police least area.\\nNot we raise walk specific technology. Candidate north somebody age list although. Catch specific language subject end.\\nTreatment lawyer simply wife sign analysis pretty. You nice bad thousand fund. Congress although follow half similar.\\nKitchen look design help maintain although I.\\nSeek and candidate. Talk garden great know front but.\\nWhile including statement left true the. Full situation near evidence. Seat model now participant image institution whole send.\\nListen environment after big one Congress front central. Similar well avoid everybody threat reality.\",\r\n",
            "        \"Address\": \"3027 Edwards Unions\\nNorth Kimberly, ND 34891\",\r\n",
            "        \"District\": \"North Krista\",\r\n",
            "        \"Status\": \"InStock\",\r\n",
            "        \"Gift\": \"No\",\r\n",
            "        \"CreatAt\": \"2024-01-21 15:52:52\",\r\n",
            "        \"Check\": \"DaBan\"\r\n",
            "    },\r\n",
            "    {\r\n",
            "        \"Id\": 11,\r\n",
            "        \"PackageId\": 1,\r\n",
            "        \"UserId\": 1,\r\n",
            "        \"VideoUrl\": \"https://www.youtube.com/watch?v=dQw4w9WgXcQ\",\r\n",
            "        \"ImageUrlMain\": \"https://picsum.photos/id/852/200/300\",\r\n",
            "        \"otherImgs\": [],\r\n",
            "        \"CategoryId\": \"Book\",\r\n",
            "        \"Name\": \"Cabrera, Gardner and Kelly\",\r\n",
            "        \"University\": \"Ltd\",\r\n",
            "        \"Price\": 464,\r\n",
            "        \"PriceReceived\": 124,\r\n",
            "        \"Description\": \"Only per gun tell. Commercial officer of no become third.\\nThemselves money toward guy. She PM money purpose discuss call white.\\nRed nation such continue. According site value own serious seek financial. Between general city.\\nHave leave picture also dream teach. Feeling involve drug education ask account type perhaps. Hope study strong technology mission seem. Spend message dog step.\\nOpportunity fire various year. Light section fight debate.\\nMoney year should bring official suddenly share wait. Career stage baby factor reduce eat.\\nLine card character matter there station election. Ever among imagine charge message serve leave.\\nLight born growth choose second deal paper boy. View quality Mrs lay crime leader relationship. No house around term star field admit.\\nMorning drug capital describe manager. Know practice young pattern rock. Turn finally face decade.\\nGirl few resource music author father couple. Indicate book three opportunity article main child. Because policy early leg style.\\nReflect want young figure fund far. Idea may policy certain indicate add. Again action newspaper total themselves event seat.\\nManage fill strong phone condition. Phone stuff above myself understand according leg. National and point sit few.\\nParty very present significant direction organization person. Section someone how when key give drug. Person purpose strategy day side. None continue create less.\\nAct fact for unit result admit child. Success others site dog commercial chair.\\nBecause bad where west they. Court statement tell whole knowledge market article crime.\\nMeeting analysis my much various. Force live message sense. Author power for election already cause religious worry.\\nDrive too game light at. Million decade single short dark pull institution. Court interview about happy.\\nForm tax buy. Middle service successful stay Congress budget. Executive finally story age at various.\\nGarden hour writer enough college. Talk ask least support.\",\r\n",
            "        \"Address\": \"PSC 3145, Box 8089\\nAPO AA 42660\",\r\n",
            "        \"District\": \"West Erinstad\",\r\n",
            "        \"Status\": \"OutOfStock\",\r\n",
            "        \"Gift\": \"Yes\",\r\n",
            "        \"CreatAt\": \"2024-01-21 15:52:52\",\r\n",
            "        \"Check\": \"DaDat\"\r\n",
            "    },\r\n",
            "    {\r\n",
            "        \"Id\": 12,\r\n",
            "        \"PackageId\": 3,\r\n",
            "        \"UserId\": 8,\r\n",
            "        \"VideoUrl\": \"https://www.youtube.com/watch?v=Ks-_Mh1QhMc\",\r\n",
            "        \"ImageUrlMain\": \"https://picsum.photos/id/41/200/300\",\r\n",
            "        \"otherImgs\": [\r\n",
            "            \"https://picsum.photos/id/631/200/300\"\r\n",
            "        ],\r\n",
            "        \"CategoryId\": \"Book\",\r\n",
            "        \"Name\": \"Pace and Sons\",\r\n",
            "        \"University\": \"LLC\",\r\n",
            "        \"Price\": 695,\r\n",
            "        \"PriceReceived\": 804,\r\n",
            "        \"Description\": \"Election many general space. Future street artist move themselves.\\nSense own end avoid. Admit recent family trouble top relate it nation.\\nDevelop skin know section imagine.\\nForm develop total cost tax message feeling. Pressure like interview agreement politics writer market. Off investment ability apply compare charge task thousand.\\nBit there claim enjoy occur. Source too cell see investment out hit. Many great election enter garden card off. Language behavior material TV series quickly national.\\nCity contain environment war another into. Include body start memory education much defense.\\nCause box sport law south name. Could it much Democrat front. Assume admit cost require model.\\nExample factor young inside development challenge century. Skin drug mention expert. I performance reflect old. Most coach forget sister full someone improve.\\nNatural course clearly direction computer life present. Require teach people two note away.\\nBillion job teach. Research truth who serious. Million western put more I term population.\\nEstablish next apply who maintain catch song. Often realize down already happen once admit rise. Eye brother college all. Subject sense forward pull make accept them firm.\\nElse wind woman suggest tend question where. Current sure partner large add heavy discover interest.\\nModel field senior customer baby dark. Top current some mouth he mission police trade. Fight Mrs need and mission. Cost turn box movie into fly past.\\nFund heart subject life close. Local eye movement international long.\\nIndeed rule center follow. Not size area teacher itself.\\nDuring after white vote.\\nGuess happy onto. Color out easy who forget. After amount book Mr need nation.\\nRace stand provide owner language. War site southern even dream. Long all great respond process.\\nAdult leader small financial model finally.\\nPainting read debate wish term study include. First nature never. Enter study write meeting daughter.\",\r\n",
            "        \"Address\": \"5783 Victoria Mountains Apt. 042\\nEast Melissashire, KY 70158\",\r\n",
            "        \"District\": \"Williamfort\",\r\n",
            "        \"Status\": \"InStock\",\r\n",
            "        \"Gift\": \"Yes\",\r\n",
            "        \"CreatAt\": \"2024-01-21 15:52:52\",\r\n",
            "        \"Check\": \"DaDat\"\r\n",
            "    },\r\n",
            "    {\r\n",
            "        \"Id\": 13,\r\n",
            "        \"PackageId\": 3,\r\n",
            "        \"UserId\": 1,\r\n",
            "        \"VideoUrl\": \"https://www.youtube.com/watch?v=dQw4w9WgXcQ\",\r\n",
            "        \"ImageUrlMain\": \"https://picsum.photos/id/350/200/300\",\r\n",
            "        \"otherImgs\": [],\r\n",
            "        \"CategoryId\": \"Sport&Beutify\",\r\n",
            "        \"Name\": \"Walters Group\",\r\n",
            "        \"University\": \"LLC\",\r\n",
            "        \"Price\": 351,\r\n",
            "        \"PriceReceived\": 648,\r\n",
            "        \"Description\": \"Focus tax rise gas test news. Should would station impact. Behind protect stand work make. Find between wish.\\nThe section quite century whatever rather. Fall audience seem sport son across long.\\nFeeling consider against left test. Business significant child deal after officer million dream. Pattern letter difficult friend.\\nAmerican while television reduce accept strategy fly. Area federal either attorney someone decide present product. Suffer professor story then fact.\\nWho suggest pressure minute including message. Person try build bit. Left age him evening common. Base ten network central student.\\nSimple already threat career large. Account discussion maybe.\\nBecause government set heart shake. Type discover model center popular scene study.\\nWish child sure project. Already pretty determine issue general create fear. Church provide its service recent home cover.\\nThese painting current offer. Dinner really economy organization practice.\\nProvide protect notice. Interview candidate air opportunity amount feeling cup. Pattern their believe whatever.\\nSouthern require see seat indeed cut. Race hospital call outside.\\nWould film between next receive measure perhaps better. Health number reason save threat. Resource force wind Mr leader wide.\\nTown song skill pull. Without woman fine value cost level much few. Allow much argue apply trade.\\nStore management admit experience. Whatever everything claim from everything family gun. Produce station paper clear listen low.\\nThere international public daughter. Article system image probably born. Two yard race benefit piece place.\\nPage activity thought south join plant. Us ago put.\\nDeal several through. Set nice myself put democratic newspaper management. Agent team sing open agency marriage. Commercial per these baby bar.\\nCan thought against ten wonder step sell. Help simply rest team it. Door environmental tell data.\\nDinner consider could life budget.\\nBecause great action seat. Easy truth every whole billion prove here.\",\r\n",
            "        \"Address\": \"98195 Dustin Place\\nLake Douglasland, WY 35970\",\r\n",
            "        \"District\": \"Scottburgh\",\r\n",
            "        \"Status\": \"OutOfStock\",\r\n",
            "        \"Gift\": \"Yes\",\r\n",
            "        \"CreatAt\": \"2024-01-21 15:52:52\",\r\n",
            "        \"Check\": \"DaBan\"\r\n",
            "    },\r\n",
            "    {\r\n",
            "        \"Id\": 14,\r\n",
            "        \"PackageId\": 3,\r\n",
            "        \"UserId\": 5,\r\n",
            "        \"VideoUrl\": \"https://www.youtube.com/watch?v=dQw4w9WgXcQ\",\r\n",
            "        \"ImageUrlMain\": \"https://picsum.photos/id/491/200/300\",\r\n",
            "        \"otherImgs\": [\r\n",
            "            \"https://picsum.photos/id/802/200/300\",\r\n",
            "            \"https://picsum.photos/id/879/200/300\",\r\n",
            "            \"https://picsum.photos/id/752/200/300\"\r\n",
            "        ],\r\n",
            "        \"CategoryId\": \"HouseWare\",\r\n",
            "        \"Name\": \"Macdonald, Watkins and Phillips\",\r\n",
            "        \"University\": \"PLC\",\r\n",
            "        \"Price\": 839,\r\n",
            "        \"PriceReceived\": 339,\r\n",
            "        \"Description\": \"Happen energy citizen leg senior television. Next step night.\\nTrouble defense someone land no. Court you situation effect director according. Character and edge room all.\\nIn challenge language impact. Sell young opportunity drop represent. Actually certain total which stock teacher nice.\\nArticle company draw think. Down agree if region.\\nStory act community student sure increase player. Kind recent hour article cell. Enough perform grow interesting. Drive impact central part image expect.\\nGrow do his sometimes out pick base. Our skill religious. Force meeting owner feeling clearly hot career sea.\\nCandidate we identify people significant magazine candidate. Stuff expert computer economic quickly exist Mrs.\\nSite country turn bit arm. Painting mean loss drop say outside chance. She station value size probably young.\\nEvening player better decision question. Model above more thousand argue.\\nAnd born including drive song. Green too tax various.\\nTheir someone chance out. Certainly minute among too price administration. Model major artist once edge cultural total true. Identify suggest surface research physical.\\nCurrent dog our next recognize Mr stock charge.\\nFinish mission tough about administration product society. Management health serve as either find.\\nReflect relate fine dream. Same provide place both. Him whose stuff charge probably.\\nReflect staff deal. Left land activity choice reason. Ten area fish official pick most sometimes on.\\nMost such focus. Central rest blue. Word station debate measure stop.\\nInvolve time night whole consider high. Agency key organization suffer action from.\\nLose catch growth military seven knowledge fall. Mrs significant memory thing seem mind news cover. Look body task student answer often think.\\nOwn themselves price knowledge. Fire score officer whose.\\nOne protect hope book morning by off. Morning blood summer job. High treat conference.\\nSignificant sport try finally. Know executive raise away.\\nEnergy weight and series.\",\r\n",
            "        \"Address\": \"09465 Smith Pine\\nLake Douglas, VA 17192\",\r\n",
            "        \"District\": \"Emilyton\",\r\n",
            "        \"Status\": \"OutOfStock\",\r\n",
            "        \"Gift\": \"No\",\r\n",
            "        \"CreatAt\": \"2024-01-21 15:52:52\",\r\n",
            "        \"Check\": \"DaBan\"\r\n",
            "    },\r\n",
            "    {\r\n",
            "        \"Id\": 15,\r\n",
            "        \"PackageId\": 3,\r\n",
            "        \"UserId\": 2,\r\n",
            "        \"VideoUrl\": \"https://www.youtube.com/watch?v=dQw4w9WgXcQ\",\r\n",
            "        \"ImageUrlMain\": \"https://picsum.photos/id/554/200/300\",\r\n",
            "        \"otherImgs\": [\r\n",
            "            \"https://picsum.photos/id/184/200/300\",\r\n",
            "            \"https://picsum.photos/id/328/200/300\"\r\n",
            "        ],\r\n",
            "        \"CategoryId\": \"ElectricSupply\",\r\n",
            "        \"Name\": \"Flynn-Gomez\",\r\n",
            "        \"University\": \"Inc\",\r\n",
            "        \"Price\": 775,\r\n",
            "        \"PriceReceived\": 663,\r\n",
            "        \"Description\": \"Present reason least then. Listen picture evidence. Chair both key trouble program.\\nBase kid western. One song common image rock indeed apply. Source administration speech no only city.\\nDeep property direction Mrs financial special notice state.\\nReal product enter lawyer after bring special participant. Appear run my any commercial doctor.\\nCollection commercial small material whether note. Protect kitchen thing your interview such network market. Agreement continue pass show.\\nAct field east whole measure bank table. Provide paper amount discover. Style property then value.\\nDark plan again as some later. Positive he appear finish prepare begin.\\nArrive power price Mr own. Travel experience moment beyond data deal term gas. Buy approach defense hospital factor.\\nPattern win argue almost arm stop computer.\\nUnder store dinner heart establish improve improve. None think stage.\\nFine smile rule successful indicate owner short. Discuss degree artist. Car discover animal wife mouth choice.\\nInside entire big college either rest. Evening court public along second analysis.\\nDrop down radio million month away. Mrs audience she around seat single certainly.\\nWhich prove general another head. Theory education figure that also there investment old. Partner soon possible investment week agent remain ability.\\nTotal strong stop night. Fire benefit prove oil.\\nFeeling left clear much. Research security start coach day.\\nParent set current wear how young follow. Time southern both spring. Rock increase its capital sea.\\nWhile hard through view party. Too run eight none his.\\nTop expect tonight suggest participant ground. Trip carry hand behind other. Law situation street move better.\\nHowever special every him receive fear style all. During thousand perhaps key simple. One former loss example want each.\\nWith join night old. As treatment office fish technology chair.\\nStudent happy well read skill hot. Rather tell those glass score matter. Keep west central car land glass manager.\",\r\n",
            "        \"Address\": \"2398 Daniel Club Apt. 065\\nNew Laura, MD 04553\",\r\n",
            "        \"District\": \"South Anthonyfurt\",\r\n",
            "        \"Status\": \"OutOfStock\",\r\n",
            "        \"Gift\": \"No\",\r\n",
            "        \"CreatAt\": \"2024-01-21 15:52:52\",\r\n",
            "        \"Check\": \"ConHang\"\r\n",
            "    },\r\n",
            "    {\r\n",
            "        \"Id\": 16,\r\n",
            "        \"PackageId\": 1,\r\n",
            "        \"UserId\": 8,\r\n",
            "        \"VideoUrl\": \"https://www.youtube.com/watch?v=dQw4w9WgXcQ\",\r\n",
            "        \"ImageUrlMain\": \"https://picsum.photos/id/976/200/300\",\r\n",
            "        \"otherImgs\": [\r\n",
            "            \"https://picsum.photos/id/48/200/300\"\r\n",
            "        ],\r\n",
            "        \"CategoryId\": \"SchoolSupply\",\r\n",
            "        \"Name\": \"Sullivan-Thompson\",\r\n",
            "        \"University\": \"LLC\",\r\n",
            "        \"Price\": 911,\r\n",
            "        \"PriceReceived\": 950,\r\n",
            "        \"Description\": \"Professor also property coach plan worry have. Discussion right plan involve beyond.\\nAmong economic move apply. Cover theory surface somebody bag despite.\\nNever piece sure natural follow traditional. Authority manage executive. Authority collection son participant glass sort south.\\nReceive get security message pass. Stock position peace.\\nCitizen side establish article sell where natural. Yet the mention range view voice remain. Fund force but position. Very majority understand purpose rather.\\nPublic support hand cut between attorney price close. Natural wife answer law.\\nGirl town work.\\nSpecific tough catch ten first. Hair color son somebody those.\\nNothing foot understand let. Seem of record continue section field. Level left tax take offer five space. Arm others level price cut if couple really.\\nIssue father wonder however personal memory whatever. Single reveal ever. Either character these statement make.\\nSecond every water perform international mean. Time central evidence movie remain a quickly. Together significant though big doctor political.\\nPiece conference use total region red. Maybe step pressure himself your yes. Community century time phone learn second who.\\nHelp then stop TV along grow theory.\\nHistory difficult suddenly player whether general film step. Conference usually our describe break.\\nAcross gun relationship response. Like spring two check others after between.\\nYard base old wonder member. Sport nearly this it possible red.\\nProve others summer someone instead daughter buy. Again close human so.\\nTonight you chance ago place example.\\nMagazine treatment look response. Notice hair father but. Personal specific ball know short water consider reduce.\\nReceive stage east growth. Rest experience animal business.\\nMy whom little special case try onto. Through artist far or.\\nYeah he what thing wind first tonight. Onto should product offer. Fast center floor loss allow manager. Television should suffer act nice offer analysis.\",\r\n",
            "        \"Address\": \"2376 Sheila Springs\\nSouth Amanda, AR 44502\",\r\n",
            "        \"District\": \"Kingberg\",\r\n",
            "        \"Status\": \"InStock\",\r\n",
            "        \"Gift\": \"No\",\r\n",
            "        \"CreatAt\": \"2024-01-21 15:52:52\",\r\n",
            "        \"Check\": \"DaDat\"\r\n",
            "    },\r\n",
            "    {\r\n",
            "        \"Id\": 17,\r\n",
            "        \"PackageId\": 1,\r\n",
            "        \"UserId\": 8,\r\n",
            "        \"VideoUrl\": \"https://www.youtube.com/watch?v=Ks-_Mh1QhMc\",\r\n",
            "        \"ImageUrlMain\": \"https://picsum.photos/id/706/200/300\",\r\n",
            "        \"otherImgs\": [\r\n",
            "            \"https://picsum.photos/id/701/200/300\",\r\n",
            "            \"https://picsum.photos/id/185/200/300\",\r\n",
            "            \"https://picsum.photos/id/327/200/300\"\r\n",
            "        ],\r\n",
            "        \"CategoryId\": \"Book\",\r\n",
            "        \"Name\": \"Davis and Sons\",\r\n",
            "        \"University\": \"Inc\",\r\n",
            "        \"Price\": 993,\r\n",
            "        \"PriceReceived\": 823,\r\n",
            "        \"Description\": \"Reality become beyond wife. Budget physical do very beyond huge gun area. Big could able exactly traditional quickly inside. First relate country begin police glass concern by.\\nPossible moment science travel environment. Political truth box various election administration over. Matter information interesting box pattern start who.\\nSeek base reduce them lead growth. Material per street newspaper protect true thank should. Agree while out apply.\\nToday design color friend. Camera those consider rule become another gas. Approach safe miss system record.\\nOpportunity campaign reach style big your reflect. Level Mr through professor itself.\\nHe be old model watch imagine student stop. Sign second plan stuff arm defense. Moment approach quite.\\nExist bad author. Power collection week parent again crime charge seat. Economy charge side scene population.\\nChance language suffer. Car miss direction out effort. Research seek morning modern catch space deep.\\nSite as clearly clearly guy them. Move money leg during which. Involve ask reach history particularly medical.\\nWife our then you entire usually store. Present question much year. Not else above.\\nStructure mention top national much even. Perform all economic unit allow tend later.\\nApply how return they degree. Manage class bank head network.\\nUsually speak week nothing past. Will city weight whatever expert.\\nSection site eight relate agent foreign crime.\\nHeavy see successful pattern audience action you always. Another herself suddenly enough parent country. Image author school cut.\\nSignificant image put project. Toward customer kind leader.\\nSmall growth take stock poor against. Receive foreign often. Fill however else seven all religious.\\nLand expert Congress the. Consumer toward wind stage house.\\nAny action term two rest media yes. While attention fact catch share despite increase American.\",\r\n",
            "        \"Address\": \"985 Clinton Fall\\nEast Dean, KY 18783\",\r\n",
            "        \"District\": \"Aguirreville\",\r\n",
            "        \"Status\": \"OutOfStock\",\r\n",
            "        \"Gift\": \"No\",\r\n",
            "        \"CreatAt\": \"2024-01-21 15:52:52\",\r\n",
            "        \"Check\": \"DaBan\"\r\n",
            "    },\r\n",
            "    {\r\n",
            "        \"Id\": 18,\r\n",
            "        \"PackageId\": 3,\r\n",
            "        \"UserId\": 1,\r\n",
            "        \"VideoUrl\": \"https://www.youtube.com/watch?v=dQw4w9WgXcQ\",\r\n",
            "        \"ImageUrlMain\": \"https://picsum.photos/id/689/200/300\",\r\n",
            "        \"otherImgs\": [\r\n",
            "            \"https://picsum.photos/id/253/200/300\",\r\n",
            "            \"https://picsum.photos/id/799/200/300\",\r\n",
            "            \"https://picsum.photos/id/206/200/300\",\r\n",
            "            \"https://picsum.photos/id/294/200/300\"\r\n",
            "        ],\r\n",
            "        \"CategoryId\": \"Book\",\r\n",
            "        \"Name\": \"Bryan PLC\",\r\n",
            "        \"University\": \"Ltd\",\r\n",
            "        \"Price\": 299,\r\n",
            "        \"PriceReceived\": 816,\r\n",
            "        \"Description\": \"Prove each set. White also dog long owner add. Begin they quickly station.\\nLay leg capital wait service low question. Spend pull lot mother generation. Grow generation party go sister difference.\\nCommercial manage accept generation very history. Official memory husband fear total treat. Network hit indeed catch.\\nSomeone debate concern suffer. Through trial key. Grow story wall.\\nBillion heavy people election so Republican. Former American picture. Decision talk crime note structure have. Specific time international effect month must anyone.\\nTogether various effort television. Exactly get expert when. Reality arrive sound security current or pass avoid.\\nGoal say throw pay. Talk none central left use ground. Few forget give story.\\nSpace capital stay perhaps game. Religious nice prevent which government.\\nListen like from me present set offer.\\nHot management because. Pattern in politics some company trial president.\\nData edge strategy college staff affect political. Late tree somebody TV range.\\nNothing else decide religious baby lose rather arm. International voice year around suggest.\\nAgency interesting fast research maintain. Surface door record price production go.\\nParty finish hundred. In not space population. Eat teach well say.\\nFuture top defense mean. Follow great treatment.\\nSummer identify fish beyond we audience build. Seem would television goal news. Great citizen behind anything because.\\nEat evening police commercial conference glass. Audience thing physical surface I reflect.\\nIdea least nor place kind tree. Open respond watch loss help fear same. Land perhaps environment expect through indeed shake. Direction week line decide loss part.\\nSend citizen talk team. Respond ready happen its evidence.\\nNothing treat night kitchen as. Church easy growth indicate book body by. Yes one sure western follow.\\nEspecially worry pull move trade later people. Performance than surface wide son trial. Event eye film nearly member.\\nPoor paper certain. Voice day if company.\",\r\n",
            "        \"Address\": \"PSC 0472, Box 8181\\nAPO AA 90947\",\r\n",
            "        \"District\": \"Morrisfort\",\r\n",
            "        \"Status\": \"OutOfStock\",\r\n",
            "        \"Gift\": \"No\",\r\n",
            "        \"CreatAt\": \"2024-01-21 15:52:52\",\r\n",
            "        \"Check\": \"DaBan\"\r\n",
            "    },\r\n",
            "    {\r\n",
            "        \"Id\": 19,\r\n",
            "        \"PackageId\": 2,\r\n",
            "        \"UserId\": 4,\r\n",
            "        \"VideoUrl\": \"https://www.youtube.com/watch?v=dQw4w9WgXcQ\",\r\n",
            "        \"ImageUrlMain\": \"https://picsum.photos/id/779/200/300\",\r\n",
            "        \"otherImgs\": [\r\n",
            "            \"https://picsum.photos/id/104/200/300\",\r\n",
            "            \"https://picsum.photos/id/249/200/300\",\r\n",
            "            \"https://picsum.photos/id/949/200/300\",\r\n",
            "            \"https://picsum.photos/id/151/200/300\"\r\n",
            "        ],\r\n",
            "        \"CategoryId\": \"SchoolSupply\",\r\n",
            "        \"Name\": \"Brady-Vincent\",\r\n",
            "        \"University\": \"LLC\",\r\n",
            "        \"Price\": 560,\r\n",
            "        \"PriceReceived\": 464,\r\n",
            "        \"Description\": \"Reduce political rule. Miss himself join fear technology. Husband black democratic position sign.\\nSenior out fight measure left professional. Let least to partner listen collection.\\nNot exactly final election former. None baby girl although house official. Why themselves their yard.\\nToday clearly enter newspaper north involve. Suffer close interview.\\nKnow evening would wrong. Event whether single question street reason with. Response somebody car.\\nSound free happy again today show could. Expect clear every garden modern.\\nMyself top can there wear. Certain strong short fund. Alone break my bank behavior. Community easy have onto.\\nThem officer discuss we scientist. Both investment purpose film. Eat I south hair.\\nChallenge nation center gun. Only others evidence realize fine site pattern low. Sometimes modern drop thousand speak.\\nMouth Mrs decision general improve ball. Good never sister have.\\nSuggest figure song community manage plant soldier. Listen marriage different risk.\\nMagazine result adult toward democratic. Audience rather face fly herself.\\nSay pattern coach want. Chair responsibility group behind economy. Than hospital win employee. Age support down hair lead.\\nAcross deep civil house the. Pressure sell into entire accept gun. Last which country herself wish stop. Major let choice parent field.\\nHappy so here middle. Conference small far support recent form agency.\\nThemselves respond night avoid wear continue guess lawyer. Middle hope case ground ever.\\nPower move official production part capital song. Suddenly maintain war effort use cold. Thank recent worry positive including speak. Space bring effect parent piece.\\nUnderstand mind service society feeling manage would. Reflect set trouble interesting.\\nModel production family little time nice music. Choose like memory above. Vote herself play benefit build drive later instead.\\nAbove pull buy want according behavior police. Wonder turn thought success stand.\",\r\n",
            "        \"Address\": \"USS Gentry\\nFPO AE 94511\",\r\n",
            "        \"District\": \"New Cherylborough\",\r\n",
            "        \"Status\": \"OutOfStock\",\r\n",
            "        \"Gift\": \"No\",\r\n",
            "        \"CreatAt\": \"2024-01-21 15:52:52\",\r\n",
            "        \"Check\": \"DaDat\"\r\n",
            "    },\r\n",
            "    {\r\n",
            "        \"Id\": 20,\r\n",
            "        \"PackageId\": 3,\r\n",
            "        \"UserId\": 4,\r\n",
            "        \"VideoUrl\": \"https://www.youtube.com/watch?v=dQw4w9WgXcQ\",\r\n",
            "        \"ImageUrlMain\": \"https://picsum.photos/id/136/200/300\",\r\n",
            "        \"otherImgs\": [\r\n",
            "            \"https://picsum.photos/id/429/200/300\",\r\n",
            "            \"https://picsum.photos/id/403/200/300\",\r\n",
            "            \"https://picsum.photos/id/297/200/300\"\r\n",
            "        ],\r\n",
            "        \"CategoryId\": \"Book\",\r\n",
            "        \"Name\": \"Deleon, Griffin and Jones\",\r\n",
            "        \"University\": \"LLC\",\r\n",
            "        \"Price\": 493,\r\n",
            "        \"PriceReceived\": 367,\r\n",
            "        \"Description\": \"Teacher decide parent detail. While him unit raise lose care unit.\\nLight also coach. Always front hair water minute.\\nWrite line former include detail fast. Ever important suggest production green direction home. Personal half whether cost deal quickly address. Open development candidate skill short we.\\nLook later product push field themselves. Side message chair result approach discover.\\nOffice quite travel. Bring up financial fire treat about property. Pm for ago many rise.\\nInvestment safe amount professional unit rise so nature. Write camera single trouble place region government. Me have everybody thought fund body. Head imagine reveal cut.\\nAction case parent author watch speech industry. Consider including concern whatever hit American charge water. State perhaps case summer bit ago.\\nHowever serious be. Easy choose much end.\\nPull price month hard sense option. Medical beyond person bill commercial.\\nReason answer our again network. Level tonight major role job.\\nDebate do finally nearly over. Site away for yet contain less. Shake lay better serve miss fast get.\\nAvoid their hair worry next. Would well nearly recent parent.\\nYourself floor series later thank remain decision. Station hit entire loss discover sound. Too stuff much late effort art American describe. Company it level two front term evening paper.\\nSecurity control respond successful. Could perform add young effort street.\\nFinally book through successful know director team. Both argue bring tell child international. Can source book.\\nKitchen lose two bank total on in herself. Republican sort pass protect.\\nPicture tough enter return. Material describe fly to someone water.\\nCommercial capital foreign. Environmental wife can then another benefit.\\nSix election structure only animal lot. Community investment story expert wide democratic. Small goal five receive.\\nDrive green population relate road raise make. Position bit perhaps any space fast hotel.\",\r\n",
            "        \"Address\": \"6664 Turner Falls\\nChristinestad, DE 51971\",\r\n",
            "        \"District\": \"Christown\",\r\n",
            "        \"Status\": \"OutOfStock\",\r\n",
            "        \"Gift\": \"No\",\r\n",
            "        \"CreatAt\": \"2024-01-21 15:52:52\",\r\n",
            "        \"Check\": \"DaBan\"\r\n",
            "    },\r\n",
            "    {\r\n",
            "        \"Id\": 21,\r\n",
            "        \"PackageId\": 1,\r\n",
            "        \"UserId\": 1,\r\n",
            "        \"VideoUrl\": \"https://www.youtube.com/watch?v=Ks-_Mh1QhMc\",\r\n",
            "        \"ImageUrlMain\": \"https://picsum.photos/id/134/200/300\",\r\n",
            "        \"otherImgs\": [\r\n",
            "            \"https://picsum.photos/id/635/200/300\",\r\n",
            "            \"https://picsum.photos/id/730/200/300\",\r\n",
            "            \"https://picsum.photos/id/585/200/300\"\r\n",
            "        ],\r\n",
            "        \"CategoryId\": \"ForYou\",\r\n",
            "        \"Name\": \"Dougherty, Roberts and Baldwin\",\r\n",
            "        \"University\": \"Inc\",\r\n",
            "        \"Price\": 279,\r\n",
            "        \"PriceReceived\": 106,\r\n",
            "        \"Description\": \"Sense mention stage. Get long never positive. Sometimes even foot trouble.\\nPresent last amount. Political represent board. Especially usually member east few manager evening.\\nAvoid town true job tell with song. Another structure thousand herself finish why time. Choice culture dinner yes likely feeling that.\\nTest speech last. Since edge seek night financial necessary they.\\nOwner behind inside sort nor. Senior structure low suggest.\\nSpend would room chair stage sea although politics. Will head be test audience now.\\nParent hold possible early race child main. Sometimes year window attention collection deep than. Treat success education production.\\nMonth organization seat. General wish often there world very education. Year firm off suffer skill alone.\\nGame eight play campaign who answer rule possible. Because another main want black.\\nReflect really paper dog.\\nPattern blood member plan blue difference within. Sing dream card church southern training table. Now court dark then senior.\\nAudience environment service suffer gun financial project. Wide wish record get even explain. Include audience improve air state.\\nStation should high. Knowledge walk writer fund book agent positive. Describe agreement recognize service radio thought.\\nClose memory watch reach leave stop here decision. Investment bar clear approach speech hand shoulder. Grow much soon help trial.\\nBillion season white investment quality concern. Them point high still rest defense.\\nEasy safe pass throughout number. Carry watch property. Effect increase result information. Occur management color significant play evening for up.\\nCandidate I though pay here. Key audience good cultural pass shake.\\nAbout new treatment set. Research why the public be. Effort court series loss rate window pull perform.\\nFollow practice kid over buy past. Agent itself during born feeling police fly.\\nTechnology capital ever world. Concern risk message song.\\nMean black point. Use body why base pay.\",\r\n",
            "        \"Address\": \"6793 Elizabeth Groves\\nPort Elijah, PW 39419\",\r\n",
            "        \"District\": \"New Raymond\",\r\n",
            "        \"Status\": \"InStock\",\r\n",
            "        \"Gift\": \"Yes\",\r\n",
            "        \"CreatAt\": \"2024-01-21 15:52:52\",\r\n",
            "        \"Check\": \"DaDat\"\r\n",
            "    },\r\n",
            "    {\r\n",
            "        \"Id\": 22,\r\n",
            "        \"PackageId\": 3,\r\n",
            "        \"UserId\": 6,\r\n",
            "        \"VideoUrl\": \"https://www.youtube.com/watch?v=dQw4w9WgXcQ\",\r\n",
            "        \"ImageUrlMain\": \"https://picsum.photos/id/105/200/300\",\r\n",
            "        \"otherImgs\": [\r\n",
            "            \"https://picsum.photos/id/319/200/300\",\r\n",
            "            \"https://picsum.photos/id/84/200/300\",\r\n",
            "            \"https://picsum.photos/id/109/200/300\",\r\n",
            "            \"https://picsum.photos/id/967/200/300\"\r\n",
            "        ],\r\n",
            "        \"CategoryId\": \"Sport&Beutify\",\r\n",
            "        \"Name\": \"Torres-Howell\",\r\n",
            "        \"University\": \"and Sons\",\r\n",
            "        \"Price\": 151,\r\n",
            "        \"PriceReceived\": 358,\r\n",
            "        \"Description\": \"Clear impact watch until father though. Heavy investment night understand. Establish since role toward there class child.\\nGlass it deal kitchen. Never evening season well hospital which piece.\\nCentral want wonder dark less lot. Strong fine fly college.\\nInternational all notice such even consumer early. Physical economic go next option north.\\nSerious policy itself political contain development. Although enough government.\\nPrevent forward for seat.\\nManager environmental level center executive although. Industry officer main with free law great. Build contain discover series. Benefit sense fill arm.\\nResource watch word side shoulder help budget. But question talk speak risk piece. Million likely defense apply.\\nMagazine yeah during successful statement close sense impact. Physical fill receive ask hit anything painting attack.\\nInterest start after store my fall. Nothing difficult author plant particular.\\nOut sure create attack defense. News treat worry force direction politics dinner in.\\nSense third population discuss indicate. Light hour consumer source hit picture clearly detail. Practice ball involve interesting significant learn. Build movement go space.\\nWindow conference figure actually network fire customer future. Especially manage almost run wish.\\nPossible customer position bit next thus artist. Season us why writer detail example.\\nSome service floor degree. Exist bar beat return.\\nService popular leader she. Represent whether person indeed mention administration. Feeling near network international.\\nAway mention type sound available mouth. Animal ok financial none.\\nSkin knowledge easy tree free minute point. Hand let east civil grow change. Hotel think cover middle.\\nReach never effect light maintain particularly it. Their beyond close owner avoid what.\\nIdea more open clear current. Authority standard call simple every product director.\\nNot should high cause color community dog. Task play somebody condition various loss.\",\r\n",
            "        \"Address\": \"25871 Jones Track\\nHardinside, WV 08218\",\r\n",
            "        \"District\": \"North Joshuahaven\",\r\n",
            "        \"Status\": \"InStock\",\r\n",
            "        \"Gift\": \"No\",\r\n",
            "        \"CreatAt\": \"2024-01-21 15:52:52\",\r\n",
            "        \"Check\": \"ConHang\"\r\n",
            "    },\r\n",
            "    {\r\n",
            "        \"Id\": 23,\r\n",
            "        \"PackageId\": 1,\r\n",
            "        \"UserId\": 8,\r\n",
            "        \"VideoUrl\": \"https://www.youtube.com/watch?v=Ks-_Mh1QhMc\",\r\n",
            "        \"ImageUrlMain\": \"https://picsum.photos/id/573/200/300\",\r\n",
            "        \"otherImgs\": [\r\n",
            "            \"https://picsum.photos/id/873/200/300\",\r\n",
            "            \"https://picsum.photos/id/370/200/300\"\r\n",
            "        ],\r\n",
            "        \"CategoryId\": \"SchoolSupply\",\r\n",
            "        \"Name\": \"Miller-Velez\",\r\n",
            "        \"University\": \"and Sons\",\r\n",
            "        \"Price\": 158,\r\n",
            "        \"PriceReceived\": 575,\r\n",
            "        \"Description\": \"Plant where amount finally. Number hospital run entire not point. His camera capital morning matter.\\nExperience whatever kitchen rather majority. Every realize certainly quickly win.\\nTonight course significant last. Who visit top machine dog understand how. Analysis language finally piece suddenly. Third fly respond bit.\\nSure project painting bag skill race light those. A movement already under partner old.\\nBoy student spend authority run issue character. Score small stage fall senior sea.\\nMouth or mission final teacher.\\nWeek catch current thank drug feeling. Goal leader happy treat little draw ask. Write military account sort almost story according.\\nRed professional professor somebody answer world protect. Area create wide prove her on star range. Stop future chair consider sound she third.\\nPaper someone charge page tough question important. Material all star myself pick up place.\\nReceive discover stop throughout.\\nIndividual change instead notice kind someone.\\nSimply instead anything fact.\\nImpact marriage usually number organization realize according. Step treat bed.\\nEast age easy could everybody strong. Risk yard dream sell tell. Former box training.\\nMost wish wide whom their. Always just challenge again during research. Policy country though voice.\\nBag either reality. Realize child loss early by over.\\nNecessary yet case teach environment energy. Development kitchen audience run member nor.\\nPoint while suffer whole professor. Capital sea attorney car.\\nOrder what budget defense as hand whether. Resource type church something throw threat soon rest. Support force upon trial argue little.\\nHome administration something hour onto once. Teach resource not world team. Election recent value forward wear debate represent.\\nSome off husband personal set.\\nRich relationship newspaper defense win hotel sea company. Teach personal anyone point political mother. Of hour especially a animal. Community whose full its certain.\",\r\n",
            "        \"Address\": \"43964 Diane Flat\\nNorth Sara, MT 26516\",\r\n",
            "        \"District\": \"East Ryanport\",\r\n",
            "        \"Status\": \"InStock\",\r\n",
            "        \"Gift\": \"No\",\r\n",
            "        \"CreatAt\": \"2024-01-21 15:52:52\",\r\n",
            "        \"Check\": \"ConHang\"\r\n",
            "    },\r\n",
            "    {\r\n",
            "        \"Id\": 24,\r\n",
            "        \"PackageId\": 2,\r\n",
            "        \"UserId\": 4,\r\n",
            "        \"VideoUrl\": \"https://www.youtube.com/watch?v=dQw4w9WgXcQ\",\r\n",
            "        \"ImageUrlMain\": \"https://picsum.photos/id/791/200/300\",\r\n",
            "        \"otherImgs\": [],\r\n",
            "        \"CategoryId\": \"SchoolSupply\",\r\n",
            "        \"Name\": \"Johnson-Ortiz\",\r\n",
            "        \"University\": \"Ltd\",\r\n",
            "        \"Price\": 864,\r\n",
            "        \"PriceReceived\": 122,\r\n",
            "        \"Description\": \"Skill according practice key. Oil trip drop democratic identify analysis. Ago doctor feeling forget sing fly thousand.\\nYeah wide low wait least century page source. Star quality agreement expert trip something suddenly.\\nLeast allow keep certain able happy. Teacher point population good traditional sometimes ago. College challenge once for.\\nInternational someone water last certain maybe. Us resource read degree family. Than nor us.\\nHalf their task strategy.\\nGo get story city method put. Paper include bring available. Prevent its world design various those popular.\\nTrip available least mission participant. Avoid alone education evidence adult reveal. Value environment small reality.\\nReligious trial test bad suddenly smile team. Number give without pattern wish.\\nCompare hour entire. Member those culture field. Choose certain final something.\\nLarge have certainly coach must attorney theory. Effort road within hard near government campaign. Development early their star save.\\nHear someone race site. West should stock.\\nLate project positive citizen remember can. Responsibility foreign heart before it but low.\\nWord later painting much purpose.\\nCarry call campaign service ago. Environment time place month understand.\\nTake west start level eight. Bit skill area surface.\\nFormer better pay job culture that grow. Feel source talk. Place official father fly. Produce let meeting against.\\nBuild success employee sort goal. Popular significant wrong accept social them director evening.\\nReturn weight similar especially. Consider institution event record effect nature tree. Economy drop ten treatment four carry.\\nWestern member quickly ground guess. Hair bed oil stand door. Lose live require pick toward.\\nProbably child law around show. Few evidence world resource as. Involve themselves plan area field scientist throughout.\\nBillion artist light anyone ago be region. Maintain garden people hope million right reach easy.\",\r\n",
            "        \"Address\": \"Unit 7354 Box 5953\\nDPO AA 53933\",\r\n",
            "        \"District\": \"Williamsstad\",\r\n",
            "        \"Status\": \"InStock\",\r\n",
            "        \"Gift\": \"Yes\",\r\n",
            "        \"CreatAt\": \"2024-01-21 15:52:52\",\r\n",
            "        \"Check\": \"DaBan\"\r\n",
            "    },\r\n",
            "    {\r\n",
            "        \"Id\": 25,\r\n",
            "        \"PackageId\": 1,\r\n",
            "        \"UserId\": 7,\r\n",
            "        \"VideoUrl\": \"https://www.youtube.com/watch?v=dQw4w9WgXcQ\",\r\n",
            "        \"ImageUrlMain\": \"https://picsum.photos/id/755/200/300\",\r\n",
            "        \"otherImgs\": [\r\n",
            "            \"https://picsum.photos/id/823/200/300\",\r\n",
            "            \"https://picsum.photos/id/302/200/300\",\r\n",
            "            \"https://picsum.photos/id/214/200/300\"\r\n",
            "        ],\r\n",
            "        \"CategoryId\": \"ElectricSupply\",\r\n",
            "        \"Name\": \"Ortiz-Smith\",\r\n",
            "        \"University\": \"Inc\",\r\n",
            "        \"Price\": 651,\r\n",
            "        \"PriceReceived\": 373,\r\n",
            "        \"Description\": \"Bag reality should finish right modern respond security. Hospital account whole keep respond off everything remember.\\nOffer rate million size. Performance thank rate so suffer.\\nSenior local news option middle finally. Identify owner level take.\\nThey ball consider police often rise. When name draw already four attorney agent. Letter wear million likely. Shoulder give all base light player father.\\nTheory never yourself risk should on cultural individual. High process painting statement ten minute. Rock author remain sea stage phone.\\nMain still trial appear bring question. Suffer together score later everything major.\\nHead short thought city. Few key short mother. International most much reveal lot difficult.\\nBenefit ok low report technology. Full start wear group participant ever risk. Authority current goal place red beautiful bank.\\nSome nation reality successful. Huge however lose produce speak floor population.\\nReligious well offer teach. Well mention reflect size focus. Ago into role side continue computer.\\nFine beat different fill. Get language identify himself. Agree travel anyone word list.\\nFly day benefit statement. Effort experience story rest enough board. Cup add account before. Some hotel your strategy.\\nPolitics ask model trip. Simple its situation rule color. So threat recent bank remember more myself.\\nNew card cell thus training. Heart guess fine various whom. Perform sing five.\\nAdmit already PM police bag heart. Though take smile during represent summer perform. Health arrive game.\\nLess career suddenly same ready memory general. Low arm generation cell. Population more movement house.\\nDoctor bank soon her could senior. Buy wide thus senior art. Later letter ball.\\nDiscover near security any risk huge. Present standard style third attorney.\\nMrs seem recognize community collection bill arrive. Course in red according.\\nThat similar ability hot seek of street area. Party drop officer out.\",\r\n",
            "        \"Address\": \"4273 Mcdowell Pine Suite 100\\nAmandaville, WV 15583\",\r\n",
            "        \"District\": \"New Amy\",\r\n",
            "        \"Status\": \"InStock\",\r\n",
            "        \"Gift\": \"Yes\",\r\n",
            "        \"CreatAt\": \"2024-01-21 15:52:52\",\r\n",
            "        \"Check\": \"DaDat\"\r\n",
            "    },\r\n",
            "    {\r\n",
            "        \"Id\": 26,\r\n",
            "        \"PackageId\": 3,\r\n",
            "        \"UserId\": 5,\r\n",
            "        \"VideoUrl\": \"https://www.youtube.com/watch?v=Ks-_Mh1QhMc\",\r\n",
            "        \"ImageUrlMain\": \"https://picsum.photos/id/314/200/300\",\r\n",
            "        \"otherImgs\": [\r\n",
            "            \"https://picsum.photos/id/133/200/300\",\r\n",
            "            \"https://picsum.photos/id/35/200/300\"\r\n",
            "        ],\r\n",
            "        \"CategoryId\": \"HouseWare\",\r\n",
            "        \"Name\": \"Daugherty-Thomas\",\r\n",
            "        \"University\": \"Inc\",\r\n",
            "        \"Price\": 958,\r\n",
            "        \"PriceReceived\": 860,\r\n",
            "        \"Description\": \"Every trial live successful. Since strategy her two. Green position capital yes national later.\\nMission three share particularly drive return box. Assume should majority civil others.\\nDrop away including may provide quite wish baby. Act agent good organization must though. Himself third step business skin order none. Up stop information pressure we figure position.\\nDemocratic inside discover everyone suddenly. Tax what agreement owner card.\\nThrow all different southern.\\nInterview suddenly most who itself build. Up city popular central north type nor.\\nSuddenly play claim type lawyer remain. Woman there respond.\\nSomething speech bit natural to risk thus. Community simply perform what open within order ago. Score arm how significant machine.\\nPolicy power explain travel than mind. South nor understand phone material study radio.\\nUsually goal hot bit security. Kind respond into apply place.\\nSomebody however machine agency also good. Cause prove Democrat recent sister billion kid. Guess from stop travel ok identify.\\nProve fly medical we stand thing response. Others whatever approach whom.\\nNeed beautiful man either either cover child. Early happen poor kind though sense. Near civil do.\\nShow executive son truth possible foot. Box agent bag attack crime read.\\nYour story until open. Similar history cell television amount get. Least forward truth manager phone available around.\\nHuman role same clearly. Knowledge watch carry clearly result TV benefit.\\nControl maintain against three among site age. Eight great fear base.\\nManage lose now analysis.\\nSend choice understand close simply. Suggest measure better subject finish right material class. Visit we author section center same yourself understand.\\nPower capital protect nearly couple. Also finish ball crime idea. Worry just across trip red light word.\\nCharge hot program in Congress two. Statement explain we anything sort sign assume.\\nJust see so only goal. Finally allow drop car sell build popular.\",\r\n",
            "        \"Address\": \"38715 Johns Union Suite 196\\nSalazarstad, MO 00928\",\r\n",
            "        \"District\": \"Goodwintown\",\r\n",
            "        \"Status\": \"OutOfStock\",\r\n",
            "        \"Gift\": \"Yes\",\r\n",
            "        \"CreatAt\": \"2024-01-21 15:52:52\",\r\n",
            "        \"Check\": \"DaBan\"\r\n",
            "    },\r\n",
            "    {\r\n",
            "        \"Id\": 27,\r\n",
            "        \"PackageId\": 2,\r\n",
            "        \"UserId\": 1,\r\n",
            "        \"VideoUrl\": \"https://www.youtube.com/watch?v=Ks-_Mh1QhMc\",\r\n",
            "        \"ImageUrlMain\": \"https://picsum.photos/id/31/200/300\",\r\n",
            "        \"otherImgs\": [\r\n",
            "            \"https://picsum.photos/id/662/200/300\"\r\n",
            "        ],\r\n",
            "        \"CategoryId\": \"Book\",\r\n",
            "        \"Name\": \"Miller and Sons\",\r\n",
            "        \"University\": \"Ltd\",\r\n",
            "        \"Price\": 314,\r\n",
            "        \"PriceReceived\": 961,\r\n",
            "        \"Description\": \"Great piece piece difference. Very future official health thing. Move operation box whose.\\nAs while control good building election. See ability student career simple thing important.\\nBig suffer could cup above. Reduce mother within glass movie box.\\nConsider leave rate step free hear attack. Into assume difference produce body factor. Major receive church. War admit national shoulder choice drop computer.\\nPlan size picture serious. Certainly read far study week begin prove fund.\\nLand week far room firm color painting opportunity.\\nThree nor listen bag voice old. Skin design treat law poor night. Ground concern just training bed campaign night.\\nCarry race shake available consider. Accept research development how southern interesting care.\\nCitizen production this keep new expert. Which big personal school offer page. Suggest include owner culture.\\nStory create employee at. Notice need peace however firm resource week front.\\nRaise within evening resource. Cut fight five past.\\nCan ok statement least consider adult your section. Street decision difference sound. Recognize popular easy million middle.\\nGroup sure move just vote toward. Effort music treatment million speech call. In seem top use.\\nClearly season son production health family. Include form oil whatever hit pull national. Kid month pick like.\\nLeg level put effort century open. According threat analysis represent table cover. Everybody once too anything help chance picture administration. Fine black wear measure watch able.\\nMy yes keep avoid. Truth even peace. Sport ok community.\\nLife candidate energy week event fund hot. Detail single join positive. Analysis media necessary cost almost behind thing.\\nLot successful walk. Draw fly executive career example your which. North clearly strategy read especially control.\\nRace central business total. Way on music left know admit film work.\\nEverything meeting level allow down parent foreign. Politics treat travel very.\",\r\n",
            "        \"Address\": \"4223 Kyle Extensions\\nLake Duaneville, DC 39800\",\r\n",
            "        \"District\": \"Lake Juan\",\r\n",
            "        \"Status\": \"InStock\",\r\n",
            "        \"Gift\": \"Yes\",\r\n",
            "        \"CreatAt\": \"2024-01-21 15:52:52\",\r\n",
            "        \"Check\": \"DaBan\"\r\n",
            "    },\r\n",
            "    {\r\n",
            "        \"Id\": 28,\r\n",
            "        \"PackageId\": 3,\r\n",
            "        \"UserId\": 6,\r\n",
            "        \"VideoUrl\": \"https://www.youtube.com/watch?v=Ks-_Mh1QhMc\",\r\n",
            "        \"ImageUrlMain\": \"https://picsum.photos/id/163/200/300\",\r\n",
            "        \"otherImgs\": [\r\n",
            "            \"https://picsum.photos/id/135/200/300\",\r\n",
            "            \"https://picsum.photos/id/622/200/300\",\r\n",
            "            \"https://picsum.photos/id/294/200/300\",\r\n",
            "            \"https://picsum.photos/id/340/200/300\"\r\n",
            "        ],\r\n",
            "        \"CategoryId\": \"Book\",\r\n",
            "        \"Name\": \"Lee Group\",\r\n",
            "        \"University\": \"PLC\",\r\n",
            "        \"Price\": 330,\r\n",
            "        \"PriceReceived\": 587,\r\n",
            "        \"Description\": \"Old decide want wrong evening north avoid. Color around citizen.\\nThey goal account. Piece put perform per smile surface. Though stuff degree religious into.\\nMemory likely on during drive physical. Couple push from benefit movement right stage speech. Team next myself out number somebody arm.\\nOut health daughter every air fish action theory. Piece sound blood price.\\nGround leg impact then century field hour. Her certainly here series.\\nContinue group loss social stage argue push role. Your year husband green nature offer society.\\nWeek cell black agency toward land. People hour explain half indeed pattern remain with.\\nFire scene she around prevent. Miss media weight development new. Woman politics star few moment get force.\\nColor little art manager science. Paper adult after my treatment.\\nBall term single degree agreement. During type office guess site.\\nSimilar better article adult. Color despite purpose read.\\nEconomic determine yet business act build. Next all any hundred bed.\\nOut close to begin particular job. Approach pressure fill out spring commercial rest. Minute quickly risk sign experience.\\nRest for billion these share professional. Change hit pretty dinner whose describe. Into reach his fact production according near.\\nOffer experience family much between between. South anyone set radio.\\nRise player sort likely crime senior improve. Day adult tough high office yard.\\nResearch teacher management support life believe spring. Truth store suddenly himself. Federal administration chance too raise management truth.\\nRecognize skin raise before wife. Phone since fund trip news former man.\\nLearn word body find religious blue where. Season ten option she.\\nSkin unit admit new mention. Add history according few.\\nFocus surface government yourself trip. Space simple up.\\nCertainly huge wind month arm behind apply. Large under specific majority customer late left occur. Spring all hair imagine have detail body.\",\r\n",
            "        \"Address\": \"714 Jonathan Crest Apt. 299\\nNorth Jessica, AK 61626\",\r\n",
            "        \"District\": \"East Donald\",\r\n",
            "        \"Status\": \"OutOfStock\",\r\n",
            "        \"Gift\": \"No\",\r\n",
            "        \"CreatAt\": \"2024-01-21 15:52:52\",\r\n",
            "        \"Check\": \"DaBan\"\r\n",
            "    },\r\n",
            "    {\r\n",
            "        \"Id\": 29,\r\n",
            "        \"PackageId\": 2,\r\n",
            "        \"UserId\": 2,\r\n",
            "        \"VideoUrl\": \"https://www.youtube.com/watch?v=dQw4w9WgXcQ\",\r\n",
            "        \"ImageUrlMain\": \"https://picsum.photos/id/199/200/300\",\r\n",
            "        \"otherImgs\": [\r\n",
            "            \"https://picsum.photos/id/874/200/300\",\r\n",
            "            \"https://picsum.photos/id/508/200/300\",\r\n",
            "            \"https://picsum.photos/id/937/200/300\"\r\n",
            "        ],\r\n",
            "        \"CategoryId\": \"Clothing\",\r\n",
            "        \"Name\": \"Hickman-Patterson\",\r\n",
            "        \"University\": \"Inc\",\r\n",
            "        \"Price\": 508,\r\n",
            "        \"PriceReceived\": 410,\r\n",
            "        \"Description\": \"Yourself ago trial reality. Modern key land carry. Claim someone part past consider speech yard.\\nMean everyone many. Question author story crime decide church situation.\\nBehind short she upon draw space. Program tough entire establish dream.\\nSometimes these military late spring article. Stop hope hospital suffer specific benefit six behind. Various truth executive century.\\nFill his oil easy bar offer. View toward civil statement.\\nProbably eye might section protect happy join. Choose military life two.\\nEdge price pay each. Radio view throughout true behind option federal.\\nVisit against experience trade message. Off admit red peace eat two professional. Talk young big first.\\nEach final fall teach general require direction. Management pressure magazine no population.\\nNatural senior specific about. According ball assume yard.\\nAgreement total thousand sit poor. Wall early street agency point strategy.\\nStrategy news now writer black call herself. After task later where picture. After sing ask red each easy.\\nRather find create fear at middle. From often bring catch. Record material call sometimes husband improve training.\\nYoung population lead others finish. If go little body skill. Mouth owner world reduce federal relationship assume.\\nAttorney become rest between I two never. High always improve fund tough fish along successful. Wish write quite understand other newspaper.\\nYour talk follow interesting learn current floor. Scientist authority what else number forget eight. But fund off nature fish economic.\\nTogether strong lay hospital less none. Force choose particularly notice product win. Dark produce decide sound clear her read.\\nLow television under face. Beat Mr present in majority leader make. Seem officer sound feeling he final happen.\\nInvestment onto since free soldier many. Try at scene never past big forward.\\nMr lay argue plant. Research speech ready allow general. In green history really suffer responsibility reality.\",\r\n",
            "        \"Address\": \"4009 Alvarez Divide\\nLake Davidview, VI 12885\",\r\n",
            "        \"District\": \"Colemouth\",\r\n",
            "        \"Status\": \"OutOfStock\",\r\n",
            "        \"Gift\": \"Yes\",\r\n",
            "        \"CreatAt\": \"2024-01-21 15:52:52\",\r\n",
            "        \"Check\": \"DaBan\"\r\n",
            "    },\r\n",
            "    {\r\n",
            "        \"Id\": 30,\r\n",
            "        \"PackageId\": 1,\r\n",
            "        \"UserId\": 4,\r\n",
            "        \"VideoUrl\": \"https://www.youtube.com/watch?v=Ks-_Mh1QhMc\",\r\n",
            "        \"ImageUrlMain\": \"https://picsum.photos/id/371/200/300\",\r\n",
            "        \"otherImgs\": [\r\n",
            "            \"https://picsum.photos/id/416/200/300\",\r\n",
            "            \"https://picsum.photos/id/47/200/300\"\r\n",
            "        ],\r\n",
            "        \"CategoryId\": \"HouseWare\",\r\n",
            "        \"Name\": \"Phillips PLC\",\r\n",
            "        \"University\": \"Group\",\r\n",
            "        \"Price\": 338,\r\n",
            "        \"PriceReceived\": 842,\r\n",
            "        \"Description\": \"Region even evening art popular. Case manager question lose style.\\nSure again can dog your sit. Doctor party seat note teacher. Method per range spend nothing business sell.\\nExplain notice operation fall. Grow push hundred let decide.\\nPresent although lead interest. Think nice Mr.\\nMeasure at speak.\\nFather may indeed I help.\\nGroup kind cover use sort best truth. Sell most oil to.\\nWhom particular quality at yes. Suffer father policy measure.\\nMeet tonight quality. Simple agency camera place. Training address himself area onto between.\\nEach anyone fine develop we door.\\nGuess heart world structure wife carry nothing.\\nMusic culture there.\\nSport west season where star democratic whom. Discussion actually forget fire.\\nProtect west over get dark. Direction fine born science bit shake. Not tough century scene drop green. Beyond where movie amount.\\nImpact fish then daughter good others. Word strong eight accept government grow collection. Cover policy kind price stock long drop remain.\\nElection with participant. Wife social dream stock politics decide.\\nLow raise structure meeting security able five. Half result actually the goal kid. Western according deep line glass lay. Thought education want how central.\\nHuge tax little in form suffer bed. Spring here such best glass always. Daughter world floor anything college.\\nBusiness usually factor people force design mother statement. Oil challenge all positive.\\nOk become trouble blue partner begin.\\nFriend able reveal fill majority. Sport guy special beat.\\nAlmost huge case can happen music. Able recent modern blue training oil even manage. Husband ever rise fish.\\nPlan talk visit recently. Even interview reality add customer organization ever option. Since word although floor quite during.\\nBed writer artist now within movement. Inside instead past structure address image. Hour thus financial nothing.\\nRest statement remain bag it. Mouth wind interview.\",\r\n",
            "        \"Address\": \"73514 Lopez Freeway\\nSouth Philipburgh, TX 70831\",\r\n",
            "        \"District\": \"North Mark\",\r\n",
            "        \"Status\": \"InStock\",\r\n",
            "        \"Gift\": \"No\",\r\n",
            "        \"CreatAt\": \"2024-01-21 15:52:52\",\r\n",
            "        \"Check\": \"ConHang\"\r\n",
            "    }\r\n",
            "\n"
          ]
        }
      ]
    },
    {
      "cell_type": "code",
      "source": [
        "# Upload file lên blob\n",
        "blob.upload_from_filename(LOCAL_FILE_PATH)"
      ],
      "metadata": {
        "id": "Nlhg3lVFGsjw"
      },
      "execution_count": null,
      "outputs": []
    },
    {
      "cell_type": "markdown",
      "metadata": {
        "id": "CDcImRbw2QLS"
      },
      "source": [
        "# Thao tác với pyarrow\n",
        "\n",
        "https://arrow.apache.org/cookbook/py/data.html\n"
      ]
    },
    {
      "cell_type": "code",
      "execution_count": null,
      "metadata": {
        "colab": {
          "base_uri": "https://localhost:8080/"
        },
        "id": "3K5_vwhZyupT",
        "outputId": "b26268b3-2ee4-4a70-bc35-bf85cfef5613"
      },
      "outputs": [
        {
          "output_type": "stream",
          "name": "stdout",
          "text": [
            "Requirement already satisfied: pyarrow in /usr/local/lib/python3.10/dist-packages (14.0.2)\n",
            "Requirement already satisfied: numpy>=1.16.6 in /usr/local/lib/python3.10/dist-packages (from pyarrow) (1.25.2)\n"
          ]
        }
      ],
      "source": [
        "!pip install pyarrow"
      ]
    },
    {
      "cell_type": "code",
      "execution_count": null,
      "metadata": {
        "id": "nD5FhVhb2P5A",
        "colab": {
          "base_uri": "https://localhost:8080/"
        },
        "outputId": "99d7b04e-7aaa-4872-83ee-585409eb0081"
      },
      "outputs": [
        {
          "output_type": "stream",
          "name": "stdout",
          "text": [
            "Requirement already satisfied: pyarrow in /usr/local/lib/python3.10/dist-packages (14.0.2)\n",
            "Collecting pyarrow\n",
            "  Downloading pyarrow-15.0.0-cp310-cp310-manylinux_2_28_x86_64.whl (38.3 MB)\n",
            "\u001b[2K     \u001b[90m━━━━━━━━━━━━━━━━━━━━━━━━━━━━━━━━━━━━━━━━\u001b[0m \u001b[32m38.3/38.3 MB\u001b[0m \u001b[31m37.0 MB/s\u001b[0m eta \u001b[36m0:00:00\u001b[0m\n",
            "\u001b[?25hRequirement already satisfied: numpy<2,>=1.16.6 in /usr/local/lib/python3.10/dist-packages (from pyarrow) (1.25.2)\n",
            "Installing collected packages: pyarrow\n",
            "  Attempting uninstall: pyarrow\n",
            "    Found existing installation: pyarrow 14.0.2\n",
            "    Uninstalling pyarrow-14.0.2:\n",
            "      Successfully uninstalled pyarrow-14.0.2\n",
            "\u001b[31mERROR: pip's dependency resolver does not currently take into account all the packages that are installed. This behaviour is the source of the following dependency conflicts.\n",
            "ibis-framework 7.1.0 requires pyarrow<15,>=2, but you have pyarrow 15.0.0 which is incompatible.\u001b[0m\u001b[31m\n",
            "\u001b[0mSuccessfully installed pyarrow-15.0.0\n"
          ]
        }
      ],
      "source": [
        "# Cài đặt pyarrow\n",
        "!pip install --upgrade pyarrow"
      ]
    },
    {
      "cell_type": "code",
      "source": [
        "import pyarrow\n",
        "import pyarrow.json\n",
        "import pyarrow.parquet"
      ],
      "metadata": {
        "id": "ARmcbWKpG7CE"
      },
      "execution_count": null,
      "outputs": []
    },
    {
      "cell_type": "code",
      "source": [
        "GCS_BLOB_NAME = \"random_products1.json\"\n",
        "blob = bucket.blob(GCS_BLOB_NAME)\n",
        "\n",
        "# download file về storage\n",
        "LOCAL_FILE_PATH = \"./cleaned.json\"\n",
        "blob.download_to_filename(LOCAL_FILE_PATH)\n",
        "\n",
        "# đọc json từ file\n",
        "table = pyarrow.json.read_json(LOCAL_FILE_PATH)\n",
        "table"
      ],
      "metadata": {
        "id": "urJjZxcBHEcf",
        "colab": {
          "base_uri": "https://localhost:8080/",
          "height": 211
        },
        "outputId": "03e1f570-86b8-4e68-a095-c04d976145c0"
      },
      "execution_count": null,
      "outputs": [
        {
          "output_type": "error",
          "ename": "NameError",
          "evalue": "name 'bucket' is not defined",
          "traceback": [
            "\u001b[0;31m---------------------------------------------------------------------------\u001b[0m",
            "\u001b[0;31mNameError\u001b[0m                                 Traceback (most recent call last)",
            "\u001b[0;32m<ipython-input-4-9386dd0ea132>\u001b[0m in \u001b[0;36m<cell line: 2>\u001b[0;34m()\u001b[0m\n\u001b[1;32m      1\u001b[0m \u001b[0mGCS_BLOB_NAME\u001b[0m \u001b[0;34m=\u001b[0m \u001b[0;34m\"random_products1.json\"\u001b[0m\u001b[0;34m\u001b[0m\u001b[0;34m\u001b[0m\u001b[0m\n\u001b[0;32m----> 2\u001b[0;31m \u001b[0mblob\u001b[0m \u001b[0;34m=\u001b[0m \u001b[0mbucket\u001b[0m\u001b[0;34m.\u001b[0m\u001b[0mblob\u001b[0m\u001b[0;34m(\u001b[0m\u001b[0mGCS_BLOB_NAME\u001b[0m\u001b[0;34m)\u001b[0m\u001b[0;34m\u001b[0m\u001b[0;34m\u001b[0m\u001b[0m\n\u001b[0m\u001b[1;32m      3\u001b[0m \u001b[0;34m\u001b[0m\u001b[0m\n\u001b[1;32m      4\u001b[0m \u001b[0;31m# download file về storage\u001b[0m\u001b[0;34m\u001b[0m\u001b[0;34m\u001b[0m\u001b[0m\n\u001b[1;32m      5\u001b[0m \u001b[0mLOCAL_FILE_PATH\u001b[0m \u001b[0;34m=\u001b[0m \u001b[0;34m\"./cleaned.json\"\u001b[0m\u001b[0;34m\u001b[0m\u001b[0;34m\u001b[0m\u001b[0m\n",
            "\u001b[0;31mNameError\u001b[0m: name 'bucket' is not defined"
          ]
        }
      ]
    },
    {
      "cell_type": "code",
      "source": [
        "table.schema\n"
      ],
      "metadata": {
        "id": "2NCXtHOGH8WU",
        "colab": {
          "base_uri": "https://localhost:8080/"
        },
        "outputId": "d572e2be-203f-4227-ba06-a136a0b622da"
      },
      "execution_count": null,
      "outputs": [
        {
          "output_type": "execute_result",
          "data": {
            "text/plain": [
              "Id: int64\n",
              "PackageId: int64\n",
              "UserId: int64\n",
              "VideoUrl: string\n",
              "ImageUrlMain: string\n",
              "otherImgs: list<item: null>\n",
              "  child 0, item: null\n",
              "CategoryId: string\n",
              "Name: string\n",
              "University: string\n",
              "Price: int64\n",
              "PriceReceived: int64\n",
              "Description: string\n",
              "Address: string\n",
              "District: string\n",
              "Status: string\n",
              "Gift: string\n",
              "CreatAt: timestamp[s]\n",
              "Check: string"
            ]
          },
          "metadata": {},
          "execution_count": 49
        }
      ]
    },
    {
      "cell_type": "code",
      "source": [
        "schema = pyarrow.schema([\n",
        "    ('event_id', pyarrow.string()),\n",
        "    ('event_type', pyarrow.string()),\n",
        "    ('timestamp', pyarrow.string()),   # Sửa kiểu timestamp thành string\n",
        "    ('user_id', pyarrow.int64()),\n",
        "    ('location', pyarrow.string()),\n",
        "    ('device', pyarrow.string()),\n",
        "    ('ip_address', pyarrow.string()),\n",
        "    ('event_attribute', pyarrow.list_(pyarrow.struct([\n",
        "        ('key', pyarrow.string()),\n",
        "        ('int_value', pyarrow.int64()),\n",
        "        ('float_value', pyarrow.float64()),\n",
        "        ('string_value', pyarrow.string()),\n",
        "        ('bool_value', pyarrow.bool_())\n",
        "    ])))\n",
        "])\n",
        "\n",
        "parse_opt = pyarrow.json.ParseOptions(\n",
        "    explicit_schema = schema\n",
        ")\n",
        "table = pyarrow.json.read_json(LOCAL_FILE_PATH,parse_options=parse_opt)"
      ],
      "metadata": {
        "id": "DLZSJWjkHzwE"
      },
      "execution_count": null,
      "outputs": []
    },
    {
      "cell_type": "code",
      "source": [
        "table.schema"
      ],
      "metadata": {
        "colab": {
          "base_uri": "https://localhost:8080/"
        },
        "id": "7ufN6iC5IBd9",
        "outputId": "6c3a9c05-1013-4d15-dd07-81702e034ee8"
      },
      "execution_count": null,
      "outputs": [
        {
          "output_type": "execute_result",
          "data": {
            "text/plain": [
              "event_id: string\n",
              "event_type: string\n",
              "timestamp: string\n",
              "user_id: int64\n",
              "location: string\n",
              "device: string\n",
              "ip_address: string\n",
              "event_attribute: list<item: struct<key: string, int_value: int64, float_value: double, string_value: string, bool_value: bool>>\n",
              "  child 0, item: struct<key: string, int_value: int64, float_value: double, string_value: string, bool_value: bool>\n",
              "      child 0, key: string\n",
              "      child 1, int_value: int64\n",
              "      child 2, float_value: double\n",
              "      child 3, string_value: string\n",
              "      child 4, bool_value: bool\n",
              "Id: int64\n",
              "PackageId: int64\n",
              "UserId: int64\n",
              "VideoUrl: string\n",
              "ImageUrlMain: string\n",
              "otherImgs: list<item: null>\n",
              "  child 0, item: null\n",
              "CategoryId: string\n",
              "Name: string\n",
              "University: string\n",
              "Price: int64\n",
              "PriceReceived: int64\n",
              "Description: string\n",
              "Address: string\n",
              "District: string\n",
              "Status: string\n",
              "Gift: string\n",
              "CreatAt: timestamp[s]\n",
              "Check: string"
            ]
          },
          "metadata": {},
          "execution_count": 51
        }
      ]
    },
    {
      "cell_type": "code",
      "source": [
        "table['event_id']\n",
        "\n",
        "# table[['event_id','event_attribute']] Lỗi"
      ],
      "metadata": {
        "id": "9BecCnTfID8K",
        "colab": {
          "base_uri": "https://localhost:8080/"
        },
        "outputId": "31d0692e-a0ef-4401-e5cb-638936e720cd"
      },
      "execution_count": null,
      "outputs": [
        {
          "output_type": "execute_result",
          "data": {
            "text/plain": [
              "<pyarrow.lib.ChunkedArray object at 0x7b842047bc40>\n",
              "[\n",
              "  [\n",
              "    null\n",
              "  ]\n",
              "]"
            ]
          },
          "metadata": {},
          "execution_count": 52
        }
      ]
    },
    {
      "cell_type": "code",
      "source": [
        "table.select(['event_id','event_attribute'])"
      ],
      "metadata": {
        "id": "UWUdRm31IGAt",
        "colab": {
          "base_uri": "https://localhost:8080/"
        },
        "outputId": "5cb60aa8-32ce-4630-9b11-6aa901b0263c"
      },
      "execution_count": null,
      "outputs": [
        {
          "output_type": "execute_result",
          "data": {
            "text/plain": [
              "pyarrow.Table\n",
              "event_id: string\n",
              "event_attribute: list<item: struct<key: string, int_value: int64, float_value: double, string_value: string, bool_value: bool>>\n",
              "  child 0, item: struct<key: string, int_value: int64, float_value: double, string_value: string, bool_value: bool>\n",
              "      child 0, key: string\n",
              "      child 1, int_value: int64\n",
              "      child 2, float_value: double\n",
              "      child 3, string_value: string\n",
              "      child 4, bool_value: bool\n",
              "----\n",
              "event_id: [[null]]\n",
              "event_attribute: [[null]]"
            ]
          },
          "metadata": {},
          "execution_count": 53
        }
      ]
    },
    {
      "cell_type": "code",
      "source": [
        "table.group_by('user_id').aggregate([(\"event_id\", \"count\"),\n",
        "                                    (\"timestamp\", \"max\")])"
      ],
      "metadata": {
        "id": "cReP-umpIHZx",
        "colab": {
          "base_uri": "https://localhost:8080/"
        },
        "outputId": "3caac043-d417-4a38-caac-7f0e4af82b70"
      },
      "execution_count": null,
      "outputs": [
        {
          "output_type": "execute_result",
          "data": {
            "text/plain": [
              "pyarrow.Table\n",
              "user_id: int64\n",
              "event_id_count: int64\n",
              "timestamp_max: string\n",
              "----\n",
              "user_id: [[null]]\n",
              "event_id_count: [[0]]\n",
              "timestamp_max: [[null]]"
            ]
          },
          "metadata": {},
          "execution_count": 54
        }
      ]
    },
    {
      "cell_type": "code",
      "source": [
        "# Xuất table ra file\n",
        "pyarrow.parquet.write_table(table,\"table.parquet\", compression=\"snappy\")"
      ],
      "metadata": {
        "id": "IrSYAyyyII1J",
        "colab": {
          "base_uri": "https://localhost:8080/",
          "height": 158
        },
        "outputId": "b8720467-7af0-4354-c362-3d0bae31ea33"
      },
      "execution_count": null,
      "outputs": [
        {
          "output_type": "error",
          "ename": "NameError",
          "evalue": "name 'table' is not defined",
          "traceback": [
            "\u001b[0;31m---------------------------------------------------------------------------\u001b[0m",
            "\u001b[0;31mNameError\u001b[0m                                 Traceback (most recent call last)",
            "\u001b[0;32m<ipython-input-3-225d6ccf4677>\u001b[0m in \u001b[0;36m<cell line: 2>\u001b[0;34m()\u001b[0m\n\u001b[1;32m      1\u001b[0m \u001b[0;31m# Xuất table ra file\u001b[0m\u001b[0;34m\u001b[0m\u001b[0;34m\u001b[0m\u001b[0m\n\u001b[0;32m----> 2\u001b[0;31m \u001b[0mpyarrow\u001b[0m\u001b[0;34m.\u001b[0m\u001b[0mparquet\u001b[0m\u001b[0;34m.\u001b[0m\u001b[0mwrite_table\u001b[0m\u001b[0;34m(\u001b[0m\u001b[0mtable\u001b[0m\u001b[0;34m,\u001b[0m\u001b[0;34m\"table.parquet\"\u001b[0m\u001b[0;34m,\u001b[0m \u001b[0mcompression\u001b[0m\u001b[0;34m=\u001b[0m\u001b[0;34m\"snappy\"\u001b[0m\u001b[0;34m)\u001b[0m\u001b[0;34m\u001b[0m\u001b[0;34m\u001b[0m\u001b[0m\n\u001b[0m",
            "\u001b[0;31mNameError\u001b[0m: name 'table' is not defined"
          ]
        }
      ]
    },
    {
      "cell_type": "code",
      "source": [
        "# Check size của data\n",
        "!du -h cleaned.json table.parquet"
      ],
      "metadata": {
        "colab": {
          "base_uri": "https://localhost:8080/"
        },
        "id": "4Rg3zYwtIK9l",
        "outputId": "9a4a85d0-9e6a-4a2a-83b8-bc9b6b67d87a"
      },
      "execution_count": null,
      "outputs": [
        {
          "output_type": "stream",
          "name": "stdout",
          "text": [
            "4.0K\tcleaned.json\n",
            "24K\ttable.parquet\n"
          ]
        }
      ]
    },
    {
      "cell_type": "code",
      "source": [
        "# Đọc table từ parquet file\n",
        "pyarrow.parquet.read_table(\"table.parquet\")"
      ],
      "metadata": {
        "id": "P1CqxR0GINht",
        "colab": {
          "base_uri": "https://localhost:8080/"
        },
        "outputId": "d348eee1-306e-4202-fbf3-c09c01b84661"
      },
      "execution_count": null,
      "outputs": [
        {
          "output_type": "execute_result",
          "data": {
            "text/plain": [
              "pyarrow.Table\n",
              "event_id: string\n",
              "event_type: string\n",
              "timestamp: string\n",
              "user_id: int64\n",
              "location: string\n",
              "device: string\n",
              "ip_address: string\n",
              "event_attribute: list<element: struct<key: string, int_value: int64, float_value: double, string_value: string, bool_value: bool>>\n",
              "  child 0, element: struct<key: string, int_value: int64, float_value: double, string_value: string, bool_value: bool>\n",
              "      child 0, key: string\n",
              "      child 1, int_value: int64\n",
              "      child 2, float_value: double\n",
              "      child 3, string_value: string\n",
              "      child 4, bool_value: bool\n",
              "Id: int64\n",
              "PackageId: int64\n",
              "UserId: int64\n",
              "VideoUrl: string\n",
              "ImageUrlMain: string\n",
              "otherImgs: list<element: null>\n",
              "  child 0, element: null\n",
              "CategoryId: string\n",
              "Name: string\n",
              "University: string\n",
              "Price: int64\n",
              "PriceReceived: int64\n",
              "Description: string\n",
              "Address: string\n",
              "District: string\n",
              "Status: string\n",
              "Gift: string\n",
              "CreatAt: timestamp[ms]\n",
              "Check: string\n",
              "----\n",
              "event_id: [[null]]\n",
              "event_type: [[null]]\n",
              "timestamp: [[null]]\n",
              "user_id: [[null]]\n",
              "location: [[null]]\n",
              "device: [[null]]\n",
              "ip_address: [[null]]\n",
              "event_attribute: [[null]]\n",
              "Id: [[1]]\n",
              "PackageId: [[1]]\n",
              "..."
            ]
          },
          "metadata": {},
          "execution_count": 57
        }
      ]
    },
    {
      "cell_type": "code",
      "source": [
        "# Ghi ra dataset\n",
        "pyarrow.parquet.write_to_dataset(table, root_path='event_info_dataset',\n",
        "                                    partition_cols=['event_type',\n",
        "                                                    'user_id'])"
      ],
      "metadata": {
        "id": "LYlvML4CIPmv"
      },
      "execution_count": null,
      "outputs": []
    },
    {
      "cell_type": "code",
      "source": [
        "import pyarrow.fs\n",
        "\n",
        "gcs= pyarrow.fs.GcsFileSystem(anonymous=False)"
      ],
      "metadata": {
        "id": "rbDB_z-RI0FR"
      },
      "execution_count": null,
      "outputs": []
    },
    {
      "cell_type": "code",
      "source": [
        "# Mở file trên google cloud storage và đọc file (ghi trực tiếp)\n",
        "import pyarrow.fs\n",
        "\n",
        "gcs= pyarrow.fs.GcsFileSystem(anonymous=True)\n",
        "\n",
        "storage_client = storage.Client()\n",
        "# bucket = storage_client.bucket(demo01_processingg)\n",
        "file_path = f\"gs://{demo01_processingg}/{random_products1.json}\"\n",
        "file_path\n",
        "\n",
        "# gs_path = \"random_products1.json\"\n",
        "# my_file = gcs.open_input_stream(gs_path)\n",
        "\n",
        "# schema = pyarrow.schema([\n",
        "#     ('event_id', pyarrow.string()),\n",
        "#     ('event_type', pyarrow.string()),\n",
        "#     ('timestamp', pyarrow.string()),\n",
        "#     ('user_id', pyarrow.int64()),\n",
        "#     ('location', pyarrow.string()),\n",
        "#     ('device', pyarrow.string()),\n",
        "#     ('ip_address', pyarrow.string()),\n",
        "#     ('event_attribute', pyarrow.list_(pyarrow.struct([\n",
        "#         ('key', pyarrow.string()),\n",
        "#         ('int_value', pyarrow.int64()),\n",
        "#         ('float_value', pyarrow.float64()),\n",
        "#         ('string_value', pyarrow.string()),\n",
        "#         ('bool_value', pyarrow.bool_())\n",
        "#     ])))\n",
        "# ])\n",
        "\n",
        "# parse_opt = pyarrow.json.ParseOptions(\n",
        "#     explicit_schema = schema\n",
        "# )\n",
        "\n",
        "# table = pyarrow.json.read_json(my_file,parse_options=parse_opt)"
      ],
      "metadata": {
        "id": "fMwP8bgHI7qE",
        "colab": {
          "base_uri": "https://localhost:8080/",
          "height": 211
        },
        "outputId": "de54de54-675e-4684-fabb-70fcf1c5028f"
      },
      "execution_count": null,
      "outputs": [
        {
          "output_type": "error",
          "ename": "NameError",
          "evalue": "name 'demo01_processingg' is not defined",
          "traceback": [
            "\u001b[0;31m---------------------------------------------------------------------------\u001b[0m",
            "\u001b[0;31mNameError\u001b[0m                                 Traceback (most recent call last)",
            "\u001b[0;32m<ipython-input-76-7dca422b43b0>\u001b[0m in \u001b[0;36m<cell line: 8>\u001b[0;34m()\u001b[0m\n\u001b[1;32m      6\u001b[0m \u001b[0mstorage_client\u001b[0m \u001b[0;34m=\u001b[0m \u001b[0mstorage\u001b[0m\u001b[0;34m.\u001b[0m\u001b[0mClient\u001b[0m\u001b[0;34m(\u001b[0m\u001b[0;34m)\u001b[0m\u001b[0;34m\u001b[0m\u001b[0;34m\u001b[0m\u001b[0m\n\u001b[1;32m      7\u001b[0m \u001b[0;31m# bucket = storage_client.bucket(demo01_processingg)\u001b[0m\u001b[0;34m\u001b[0m\u001b[0;34m\u001b[0m\u001b[0m\n\u001b[0;32m----> 8\u001b[0;31m \u001b[0mfile_path\u001b[0m \u001b[0;34m=\u001b[0m \u001b[0;34mf\"gs://{demo01_processingg}/{random_products1.json}\"\u001b[0m\u001b[0;34m\u001b[0m\u001b[0;34m\u001b[0m\u001b[0m\n\u001b[0m\u001b[1;32m      9\u001b[0m \u001b[0mfile_path\u001b[0m\u001b[0;34m\u001b[0m\u001b[0;34m\u001b[0m\u001b[0m\n\u001b[1;32m     10\u001b[0m \u001b[0;34m\u001b[0m\u001b[0m\n",
            "\u001b[0;31mNameError\u001b[0m: name 'demo01_processingg' is not defined"
          ]
        }
      ]
    },
    {
      "cell_type": "code",
      "source": [
        "# Ghi ra dataset file\n",
        "pyarrow.parquet.write_to_dataset(table,\n",
        "                                root_path='demo01_processing/aggregate-data/event_info_dataset',\n",
        "                                partition_cols=['event_type', 'user_id'],\n",
        "                                filesystem=gcs)"
      ],
      "metadata": {
        "id": "XLmQL4HOKvPi"
      },
      "execution_count": null,
      "outputs": []
    },
    {
      "cell_type": "code",
      "source": [
        "pyarrow.parquet.read_table(\"./event_info_dataset\")"
      ],
      "metadata": {
        "id": "DNoZi767NErI"
      },
      "execution_count": null,
      "outputs": []
    },
    {
      "cell_type": "markdown",
      "metadata": {
        "id": "WRC-PaR9Am1P"
      },
      "source": [
        "# Problem :\n",
        "- Pyarrow chỉ Overwrite dataset\n",
        "- Work arround:\n",
        "    - Lưu data theo path year/month/day\n",
        "    - Parse Timestamp thành cột year/month/day\n"
      ]
    },
    {
      "cell_type": "markdown",
      "metadata": {
        "id": "U5inxEIYQYb3"
      },
      "source": [
        "# Pandas và pyarrow\n",
        "\n",
        "Pandas 2.0 có hỗ trợ pyarrow engine\n"
      ]
    },
    {
      "cell_type": "code",
      "execution_count": null,
      "metadata": {
        "id": "z9c1qPA3Qd2E",
        "colab": {
          "base_uri": "https://localhost:8080/"
        },
        "outputId": "59eb13ca-b34b-43a3-e8d7-63cf9b8b7a43"
      },
      "outputs": [
        {
          "output_type": "stream",
          "name": "stdout",
          "text": [
            "Requirement already satisfied: pandas==2.0 in /usr/local/lib/python3.10/dist-packages (2.0.0)\n",
            "Requirement already satisfied: python-dateutil>=2.8.2 in /usr/local/lib/python3.10/dist-packages (from pandas==2.0) (2.8.2)\n",
            "Requirement already satisfied: pytz>=2020.1 in /usr/local/lib/python3.10/dist-packages (from pandas==2.0) (2023.4)\n",
            "Requirement already satisfied: tzdata>=2022.1 in /usr/local/lib/python3.10/dist-packages (from pandas==2.0) (2024.1)\n",
            "Requirement already satisfied: numpy>=1.21.0 in /usr/local/lib/python3.10/dist-packages (from pandas==2.0) (1.25.2)\n",
            "Requirement already satisfied: six>=1.5 in /usr/local/lib/python3.10/dist-packages (from python-dateutil>=2.8.2->pandas==2.0) (1.16.0)\n"
          ]
        }
      ],
      "source": [
        "# !pip install --upgrade\n",
        "!pip install pandas==2.0"
      ]
    },
    {
      "cell_type": "code",
      "source": [
        "import pandas as pd\n",
        "\n",
        "\n",
        "pd.read_parquet(\"./table.parquet\",engine = \"pyarrow\")\n",
        "\n",
        "# Convert Pyarrow sang pandas\n",
        "df = table.to_pandas( types_mapper = pd.ArrowDtype)\n",
        "df"
      ],
      "metadata": {
        "id": "finjws43LVJL",
        "colab": {
          "base_uri": "https://localhost:8080/",
          "height": 193
        },
        "outputId": "47ede676-803e-4158-a0d6-bdd796fca3ca"
      },
      "execution_count": null,
      "outputs": [
        {
          "output_type": "error",
          "ename": "NameError",
          "evalue": "name 'table' is not defined",
          "traceback": [
            "\u001b[0;31m---------------------------------------------------------------------------\u001b[0m",
            "\u001b[0;31mNameError\u001b[0m                                 Traceback (most recent call last)",
            "\u001b[0;32m<ipython-input-4-84fd3af45399>\u001b[0m in \u001b[0;36m<cell line: 7>\u001b[0;34m()\u001b[0m\n\u001b[1;32m      5\u001b[0m \u001b[0;34m\u001b[0m\u001b[0m\n\u001b[1;32m      6\u001b[0m \u001b[0;31m# Convert Pyarrow sang pandas\u001b[0m\u001b[0;34m\u001b[0m\u001b[0;34m\u001b[0m\u001b[0m\n\u001b[0;32m----> 7\u001b[0;31m \u001b[0mdf\u001b[0m \u001b[0;34m=\u001b[0m \u001b[0mtable\u001b[0m\u001b[0;34m.\u001b[0m\u001b[0mto_pandas\u001b[0m\u001b[0;34m(\u001b[0m \u001b[0mtypes_mapper\u001b[0m \u001b[0;34m=\u001b[0m \u001b[0mpd\u001b[0m\u001b[0;34m.\u001b[0m\u001b[0mArrowDtype\u001b[0m\u001b[0;34m)\u001b[0m\u001b[0;34m\u001b[0m\u001b[0;34m\u001b[0m\u001b[0m\n\u001b[0m\u001b[1;32m      8\u001b[0m \u001b[0mdf\u001b[0m\u001b[0;34m\u001b[0m\u001b[0;34m\u001b[0m\u001b[0m\n",
            "\u001b[0;31mNameError\u001b[0m: name 'table' is not defined"
          ]
        }
      ]
    },
    {
      "cell_type": "code",
      "source": [
        "\n",
        "df['timestamp'] = df['timestamp'].astype(str)\n",
        "df['datetime'] = df['timestamp'].str.split(\" \").map(lambda x: x[0])\n",
        "df['year'] = df['datetime'].str.split(\"-\").map(lambda x: x[0])\n",
        "df['month'] = df['datetime'].str.split(\"-\").map(lambda x: x[1])\n",
        "df['day'] = df['datetime'].str.split(\"-\").map(lambda x: x[2])\n",
        "\n",
        "new_table = pyarrow.Table.from_pandas(df)\n",
        "\n",
        "pyarrow.parquet.write_to_dataset(new_table,\n",
        "                                root_path='mmo_event_processing/gold-zone/event_info_dataset',\n",
        "                                partition_cols=['year','month','day'],\n",
        "                                filesystem=gcs)"
      ],
      "metadata": {
        "id": "ri0U4fFKKxii"
      },
      "execution_count": null,
      "outputs": []
    },
    {
      "cell_type": "code",
      "source": [],
      "metadata": {
        "id": "RLPTJ7itLW-y"
      },
      "execution_count": null,
      "outputs": []
    },
    {
      "cell_type": "markdown",
      "metadata": {
        "id": "coNtd4z2Ayks"
      },
      "source": [
        "# Cloud Build\n",
        "\n",
        "Câu lệnh build bằng docker\n",
        "```\n",
        "docker build\n",
        "```\n",
        "\n",
        "Câu lệnh build trên cloud\n",
        "```\n",
        "gcloud builds submit --tag gcr.io/project-id/test-app-309909/simple-image:v1.0\n",
        "```\n",
        "\n",
        "```\n",
        "# cloudbuild.yaml\n",
        "steps:\n",
        "    - name: 'gcr.io/cloud-builders/docker'\n",
        "args: [ 'build', '-t','gcr.io/${_PROJECT_ID}/${_IMAGE_NAME}:${_TAG}', '.' ]\n",
        "substitutions:\n",
        "_PROJECT_ID: test-app-309909 # default value\n",
        "_IMAGE_NAME: simple-image # default value\n",
        "_TAG: v1.0\n",
        "images:\n",
        "- 'gcr.io/${_PROJECT_ID}/${_IMAGE_NAME}:${_TAG}'\n",
        "```\n",
        "\n",
        "```\n",
        "gcloud builds submit --config=cloudbuild.yaml\n",
        "```\n",
        "\n",
        "```\n",
        "gcloud builds submit \\\n",
        "        --config=cloudbuild.yaml \\\n",
        "        --substitutions=_PROJECT_ID=test-app-309909,_IMAGE_NAME=simple-image,_TAG=v1.0\n",
        "```"
      ]
    },
    {
      "cell_type": "markdown",
      "metadata": {
        "id": "2wO65s7vBTU0"
      },
      "source": [
        "# Cloud Run\n",
        "\n",
        "Câu lệnh tạo job cloud run\n",
        "```\n",
        "export PROJECT_ID=test-app-309909\n",
        "export IMAGE=simple-image\n",
        "export TAG=v1.0\n",
        "export JOB_NAME=simple-job\n",
        "export SERVICE_ACCOUNT=batch-job-service-account@test-app-309909.iam.gserviceaccount.com\n",
        "\n",
        "gcloud run jobs create ${JOB_NAME} \\\n",
        "            --region asia-east1 \\\n",
        "            --image gcr.io/${PROJECT_ID}/${IMAGE}:${TAG} \\\n",
        "            --service-account ${SERVICE_ACCOUNT}\n",
        "```"
      ]
    },
    {
      "cell_type": "markdown",
      "metadata": {
        "id": "F21QShOinX2n"
      },
      "source": [
        "# Cloud Scheduler\n",
        "\n",
        "Câu lệnh tạo cloud scheduler\n",
        "\n",
        "```\n",
        "export PROJECT_ID=test-app-309909\n",
        "export IMAGE=simple-image\n",
        "export TAG=v1.0\n",
        "export SCHEDULER_NAME=simple-scheduler\n",
        "export JOB_NAME=simple-job\n",
        "export CLOUD_RUN_REGION=asia-east1\n",
        "export SCHEDULER_REGION=asia-east1\n",
        "export SERVICE_ACCOUNT=batch-job-service-account@test-app-309909.iam.gserviceaccount.com\n",
        "\n",
        "\n",
        "gcloud scheduler jobs create http ${SCHEDULER_NAME}\\\n",
        "        --location ${SCHEDULER_REGION} \\\n",
        "        --schedule=\"* * * * *\" \\\n",
        "        --uri=\"https://${CLOUD_RUN_REGION}-run.googleapis.com/apis/run.googleapis.com/v1/namespaces/${PROJECT_ID}/jobs/${JOB_NAME}:run\" \\\n",
        "        --http-method POST \\\n",
        "        --oidc-service-account-email ${SERVICE_ACCOUNT}\n",
        "\n",
        "```"
      ]
    }
  ],
  "metadata": {
    "colab": {
      "provenance": []
    },
    "kernelspec": {
      "display_name": "Python 3",
      "name": "python3"
    },
    "language_info": {
      "name": "python"
    }
  },
  "nbformat": 4,
  "nbformat_minor": 0
}